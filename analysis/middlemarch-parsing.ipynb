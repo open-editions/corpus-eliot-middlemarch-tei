{
 "cells": [
  {
   "cell_type": "code",
   "execution_count": 89,
   "metadata": {},
   "outputs": [],
   "source": [
    "from bs4 import BeautifulSoup\n",
    "import nltk\n",
    "from nltk import word_tokenize\n",
    "from collections import Counter\n",
    "import pandas as pd\n",
    "from matplotlib import pyplot as plt\n",
    "from glob import glob\n",
    "%matplotlib inline\n",
    "plt.rcParams[\"figure.figsize\"] = (12,8)"
   ]
  },
  {
   "cell_type": "code",
   "execution_count": 2,
   "metadata": {},
   "outputs": [
    {
     "name": "stdout",
     "output_type": "stream",
     "text": [
      "book1.xml  book3.xml  book5.xml  book7.xml  \u001b[0m\u001b[01;34mscripts\u001b[0m/\r\n",
      "book2.xml  book4.xml  book6.xml  book8.xml  Untitled.ipynb\r\n"
     ]
    }
   ],
   "source": [
    "%ls"
   ]
  },
  {
   "cell_type": "code",
   "execution_count": 92,
   "metadata": {},
   "outputs": [
    {
     "data": {
      "text/plain": [
       "['book1.xml',\n",
       " 'book2.xml',\n",
       " 'book5.xml',\n",
       " 'book3.xml',\n",
       " 'book4.xml',\n",
       " 'book7.xml',\n",
       " 'book8.xml',\n",
       " 'book6.xml']"
      ]
     },
     "execution_count": 92,
     "metadata": {},
     "output_type": "execute_result"
    }
   ],
   "source": [
    "glob('*.xml')"
   ]
  },
  {
   "cell_type": "code",
   "execution_count": 55,
   "metadata": {},
   "outputs": [],
   "source": [
    "b1 = open('book1.xml').read()"
   ]
  },
  {
   "cell_type": "code",
   "execution_count": 56,
   "metadata": {},
   "outputs": [],
   "source": [
    "soup = BeautifulSoup(b1)"
   ]
  },
  {
   "cell_type": "code",
   "execution_count": 93,
   "metadata": {},
   "outputs": [],
   "source": [
    "allBooks = [open(fn).read() for fn in sorted(glob('*.xml'))]"
   ]
  },
  {
   "cell_type": "code",
   "execution_count": 95,
   "metadata": {},
   "outputs": [
    {
     "data": {
      "text/plain": [
       "[281979, 253000, 219708, 258718, 243554, 249330, 224385, 244469]"
      ]
     },
     "execution_count": 95,
     "metadata": {},
     "output_type": "execute_result"
    }
   ],
   "source": [
    "[len(book) for book in allBooks]"
   ]
  },
  {
   "cell_type": "code",
   "execution_count": 96,
   "metadata": {},
   "outputs": [],
   "source": [
    "allSoups = [BeautifulSoup(book) for book in allBooks]"
   ]
  },
  {
   "cell_type": "markdown",
   "metadata": {},
   "source": [
    "# About Dictionaries"
   ]
  },
  {
   "cell_type": "code",
   "execution_count": 16,
   "metadata": {},
   "outputs": [],
   "source": [
    "inventory = {\"apples\": 3, \"oranges\": 17, \"bananas\": 1000}"
   ]
  },
  {
   "cell_type": "code",
   "execution_count": 17,
   "metadata": {},
   "outputs": [
    {
     "data": {
      "text/plain": [
       "1000"
      ]
     },
     "execution_count": 17,
     "metadata": {},
     "output_type": "execute_result"
    }
   ],
   "source": [
    "inventory['bananas']"
   ]
  },
  {
   "cell_type": "code",
   "execution_count": 18,
   "metadata": {},
   "outputs": [],
   "source": [
    "inventory['bananas'] = 10"
   ]
  },
  {
   "cell_type": "code",
   "execution_count": 19,
   "metadata": {},
   "outputs": [
    {
     "data": {
      "text/plain": [
       "{'apples': 3, 'oranges': 17, 'bananas': 10}"
      ]
     },
     "execution_count": 19,
     "metadata": {},
     "output_type": "execute_result"
    }
   ],
   "source": [
    "inventory"
   ]
  },
  {
   "cell_type": "markdown",
   "metadata": {},
   "source": [
    "# Make a Dictionary of all Characters and all their Dialogue"
   ]
  },
  {
   "cell_type": "code",
   "execution_count": 58,
   "metadata": {},
   "outputs": [],
   "source": [
    "dialogue = soup.findAll('said')"
   ]
  },
  {
   "cell_type": "code",
   "execution_count": 25,
   "metadata": {},
   "outputs": [],
   "source": [
    "dialogueDict = {}\n",
    "for utterance in dialogue: \n",
    "    if 'who' in utterance.attrs:\n",
    "        char = utterance.attrs['who']\n",
    "        if char not in dialogueDict: \n",
    "            dialogueDict[char] = [utterance.text]\n",
    "        if char in dialogueDict: \n",
    "            dialogueDict[char].append(utterance.text)"
   ]
  },
  {
   "cell_type": "code",
   "execution_count": 26,
   "metadata": {},
   "outputs": [
    {
     "data": {
      "text/plain": [
       "{'#Celia': [\" Dorothea, dear, if you don't mind—if you are not very busy—suppose\\nwe looked at mamma's jewels to-day, and divided them?  It is exactly\\nsix months to-day since uncle gave them to you, and you have not looked\\nat them yet.\",\n",
       "  \" Dorothea, dear, if you don't mind—if you are not very busy—suppose\\nwe looked at mamma's jewels to-day, and divided them?  It is exactly\\nsix months to-day since uncle gave them to you, and you have not looked\\nat them yet.\",\n",
       "  'It is the last day of September now, and it was the first of April\\nwhen uncle gave them to you.  You know, he said that he had forgotten\\nthem till then.  I believe you have never thought of them since you\\nlocked them up in the cabinet here.',\n",
       "  \"I think, dear, we are wanting\\nin respect to mamma's memory, to put them by and take no notice of\\nthem.  And,\",\n",
       "  'necklaces are quite usual now; and Madame Poincon, who\\nwas stricter in some things even than you are, used to wear ornaments.\\nAnd Christians generally—surely there are women in heaven now who wore\\njewels.',\n",
       "  'They are here,',\n",
       "  'O Dodo, you must keep\\nthe cross yourself.',\n",
       "  'Yes, indeed you must; it would suit you—in your black dress, now,',\n",
       "  'You might wear that.',\n",
       "  'Then you will think it wicked in me to wear it,',\n",
       "  \"But you might like to keep it for mamma's sake.\",\n",
       "  'But how can I wear ornaments if you, who are the elder sister, will\\nnever wear them?',\n",
       "  'It would be a\\nlittle tight for your neck; something to lie down and hang would suit\\nyou better,',\n",
       "  'And there is a bracelet to match it,',\n",
       "  '\\nWe did not notice\\nthis at first.',\n",
       "  'You would like those, Dorothea,',\n",
       "  'You must keep that ring and bracelet—if nothing\\nelse.  But see, these agates are very pretty and quiet.',\n",
       "  'Shall you wear them in company?',\n",
       "  'I am sure—at least, I trust,',\n",
       "  \"that the wearing of a\\nnecklace will not interfere with my prayers.  And I do not see that I\\nshould be bound by Dorothea's opinions now we are going into society,\\nthough of course she herself ought to be bound by them.  But Dorothea\\nis not always consistent.\",\n",
       "  'I think she is,',\n",
       "  'She likes giving up.',\n",
       "  'How very ugly Mr. Casaubon is!',\n",
       "  'Had Locke those two white moles with hairs on them?',\n",
       "  'Mr. Casaubon is so sallow.',\n",
       "  'Dodo!',\n",
       "  'I wonder you show temper, Dorothea.',\n",
       "  'Has Mr. Casaubon a great soul?',\n",
       "  'He talks very little,',\n",
       "  'He thinks that Dodo cares about him, and she only\\ncares about her plans.  Yet I am not certain that she would refuse him\\nif she thought he would let her manage everything and carry out all her\\nnotions.  And how very uncomfortable Sir James would be!  I cannot bear\\nnotions.',\n",
       "  'Sir James seems determined to do everything you wish,',\n",
       "  'You mean that he appears silly.',\n",
       "  ' said Celia, in her\\nusual purring way.  They must be very dreadful to live with.  Only\\nthink! at breakfast, and always.\\n',\n",
       "  'They must be very dreadful to live with.  Only\\nthink! at breakfast, and always.',\n",
       "  'You mean that Sir James tries and fails.',\n",
       "  'Now, Dodo, can you really believe that?',\n",
       "  \"Pray do not make that mistake any longer, Dodo.  When Tantripp was\\nbrushing my hair the other day, she said that Sir James's man knew from\\nMrs. Cadwallader's maid that Sir James was to marry the eldest Miss\\nBrooke.\",\n",
       "  \"I see no harm at all in Tantripp's talking to me.  It is better to\\nhear what people say.  You see what mistakes you make by taking up\\nnotions.  I am quite sure that Sir James means to make you an offer;\\nand he believes that you will accept him, especially since you have\\nbeen so pleased with him about the plans.  And uncle too—I know he\\nexpects it.  Every one can see that Sir James is very much in love with\\nyou.\",\n",
       "  'But you have been so pleased with him since then; he has begun to feel\\nquite sure that you are fond of him.',\n",
       "  'Dear me, Dorothea, I suppose it would be right for you to be fond of a\\nman whom you accepted for a husband.',\n",
       "  \"Well, I am sorry for Sir James.  I thought it right to tell you,\\nbecause you went on as you always do, never looking just where you are,\\nand treading in the wrong place.  You always see what nobody else sees;\\nit is impossible to satisfy you; yet you never see what is quite plain.\\nThat's your way, Dodo.\",\n",
       "  'Wait a little.  Think about it.  You know he is going away for a day\\nor two to see his sister.  There will be nobody besides Lovegood.',\n",
       "  'Poor Dodo,',\n",
       "  'It is very hard: it is your favorite fad to draw\\nplans.',\n",
       "  'No, uncle,',\n",
       "  'we have been to Freshitt to look at the\\ncottages.  We thought you would have been at home to lunch.',\n",
       "  \"Don't sit up, Dodo, you are so pale to-night: go to bed soon,\",\n",
       "  'So much the better,',\n",
       "  'Is any one else coming to dine besides Mr. Casaubon?',\n",
       "  'I hope there is some one else.  Then I shall not hear him eat his soup\\nso.',\n",
       "  \"Really, Dodo, can't you hear how he scrapes his spoon?  And he always\\nblinks before he speaks.  I don't know whether Locke blinked, but I'm\\nsure I am sorry for those who sat opposite to him if he did.\",\n",
       "  'Why not?  They are quite true,',\n",
       "  \"Then I think the commonest minds must be rather useful.  I think it is\\na pity Mr. Casaubon's mother had not a commoner mind: she might have\\ntaught him better.\",\n",
       "  'It is quite decided, then?',\n",
       "  'And\\nuncle knows?',\n",
       "  'I beg your pardon, if I have said anything to hurt you, Dodo,',\n",
       "  'She is engaged to marry Mr. Casaubon,',\n",
       "  'I only knew of it yesterday.  They are to be married in six weeks.',\n",
       "  'I am so sorry for Dorothea.',\n",
       "  'Yes; she says Mr. Casaubon has a great soul.',\n",
       "  \"Oh, Mrs. Cadwallader, I don't think it can be nice to marry a man with\\na great soul.\",\n",
       "  \"I'm sure I never should.\",\n",
       "  'I should have liked that very much.  I am sure he would have been a\\ngood husband.  Only,',\n",
       "  \"I don't think he would have suited\\nDorothea.\",\n",
       "  'Dodo is very strict.  She thinks so much about everything, and is so\\nparticular about what one says.  Sir James never seemed to please her.',\n",
       "  \"Please don't be angry with Dodo; she does not see things.  She thought\\nso much about the cottages, and she was rude to Sir James sometimes;\\nbut he is so kind, he never noticed it.\",\n",
       "  'Oh dear!',\n",
       "  'I am sure Freshitt Hall would have\\nbeen pleasanter than this.',\n",
       "  'Oh, Dodo,',\n",
       "  'will you not have the bow-windowed room\\nup-stairs?',\n",
       "  'The sister is pretty,',\n",
       "  'Do you know, Dorothea, I saw some one quite young coming up one of the\\nwalks.',\n",
       "  'No, not a gardener,',\n",
       "  'a gentleman with a sketch-book. He\\nhad light-brown curls.  I only saw his back.  But he was quite young.',\n",
       "  'And if he wished them a skinny fowl,',\n",
       "  'that would not be\\nnice.  But perhaps he wished them to have fat fowls.',\n",
       "  'I suppose it is being engaged to be married that has made you think\\npatience good,',\n",
       "  \"Yes; when people don't do and say just what you like.\"],\n",
       " '#D': ['What a wonderful little almanac you are, Celia!  Is it six calendar or\\nsix lunar months?',\n",
       "  'What a wonderful little almanac you are, Celia!  Is it six calendar or\\nsix lunar months?',\n",
       "  'Well, dear, we should never wear them, you know.',\n",
       "  'You would like to wear them?',\n",
       "  'Of\\ncourse, then, let us have them out.  Why did you not tell me before?\\nBut the keys, the keys!',\n",
       "  'Pray open the large drawer of the cabinet and get out the jewel-box.',\n",
       "  'There, Celia! you can wear that with your Indian muslin.  But this\\ncross you must wear with your dark dresses.',\n",
       "  'No, no, dear, no,',\n",
       "  'Not for the world, not for the world.  A cross is the last thing I\\nwould wear as a trinket.',\n",
       "  'No, dear, no,',\n",
       "  \"No, I have other things of mamma's—her sandal-wood box which I am so\\nfond of—plenty of things.  In fact, they are all yours, dear.  We need\\ndiscuss them no longer.  There—take away your property.\",\n",
       "  'Nay, Celia, that is too much to ask, that I should wear trinkets to\\nkeep you in countenance.  If I were to put on such a necklace as that,\\nI should feel as if I had been pirouetting.  The world would go round\\nwith me, and I should not know how to walk.',\n",
       "  'How very beautiful these gems are!',\n",
       "  'It is strange how deeply colors\\nseem to penetrate one, like scent.  I suppose that is the reason why\\ngems are used as spiritual emblems in the Revelation of St. John.  They\\nlook like fragments of heaven.  I think that emerald is more beautiful\\nthan any of them.',\n",
       "  'They are lovely,',\n",
       "  'Yes!  I will keep these—this ring and bracelet,',\n",
       "  'Yet what miserable men find such things, and work at them, and\\nsell them! ',\n",
       "  ' Yes, dear, I will keep these,',\n",
       "  'But take\\nall the rest away, and the casket.',\n",
       "  'Perhaps,',\n",
       "  'I cannot tell to what level I\\nmay sink.',\n",
       "  'Here, Kitty, come and look at my plan; I shall think I am a great\\narchitect, if I have not got incompatible stairs and fireplaces.',\n",
       "  'Surely,',\n",
       "  'it is better to spend money in finding out\\nhow men can make the most of the land which supports them all, than in\\nkeeping dogs and horses only to gallop over it.  It is not a sin to\\nmake yourself poor in performing experiments for the good of all.',\n",
       "  'Thank you, you are very good.  I mean to give up riding.  I shall not\\nride any more,',\n",
       "  'If that were true, Celia, my giving-up would be self-indulgence, not\\nself-mortification. But there may be good reasons for choosing not to\\ndo what is very agreeable,',\n",
       "  'No, indeed, not exactly.  I did not say that of myself,',\n",
       "  'I wish you would let me sort your papers for you, uncle,',\n",
       "  'I would letter them all, and then make a list of subjects\\nunder each letter.',\n",
       "  'Celia!  He is one of the most distinguished-looking men I ever saw.\\nHe is remarkably like the portrait of Locke.  He has the same deep\\neye-sockets.',\n",
       "  'Oh, I dare say! when people of a certain sort looked at him,',\n",
       "  'All the better.  I suppose you admire a man with the complexion of a\\ncochon de lait.',\n",
       "  'Why should I make it before the occasion came?  It is a good\\ncomparison: the match is perfect.',\n",
       "  \"It is so painful in you, Celia, that you will look at human beings as\\nif they were merely animals with a toilet, and never see the great soul\\nin a man's face.\",\n",
       "  'Yes, I believe he has,',\n",
       "  'Everything I see in him corresponds to his pamphlet on\\nBiblical Cosmology.',\n",
       "  'There is no one for him to talk to.',\n",
       "  'I am aware of it,',\n",
       "  'I think it would do Celia\\ngood—if she would take to it.',\n",
       "  'Excuse me; I have had very little practice, and I should be easily\\nthrown.',\n",
       "  'You see how widely we differ, Sir James.  I have made up my mind that\\nI ought not to be a perfect horsewoman, and so I should never\\ncorrespond to your pattern of a lady.',\n",
       "  'It is quite possible that I should think it wrong for me.',\n",
       "  ' Oh, why?',\n",
       "  'He thinks with me,',\n",
       "  'or rather, he thinks a\\nwhole world of which my thought is but a poor twopenny mirror.  And his\\nfeelings too, his whole experience—what a lake compared with my little\\npool!',\n",
       "  'I should learn everything then,',\n",
       "  \"It would be my duty\\nto study that I might help him the better in his great works.  There\\nwould be nothing trivial about our lives.  Every-day things with us\\nwould mean the greatest things.  It would be like marrying Pascal.  I\\nshould learn to see the truth by the same light as great men have seen\\nit by.  And then I should know what to do, when I got older: I should\\nsee how it was possible to lead a grand life here—now—in England.  I\\ndon't feel sure about doing good in any way now: everything seems like\\ngoing on a mission to a people whose language I don't know;—unless it\\nwere building good cottages—there can be no doubt about that.  Oh, I\\nhope I should be able to get the people well housed in Lowick!  I will\\ndraw plenty of plans while I have time.\",\n",
       "  'It is painful to me to see these creatures that are bred merely as\\npets,',\n",
       "  'I believe all the petting that is given them does not make them happy.\\nThey are too helpless: their lives are too frail.  A weasel or a mouse\\nthat gets its own living is more interesting.  I like to think that the\\nanimals about us have souls something like our own, and either carry on\\ntheir own little affairs or can be companions to us, like Monk here.\\nThose creatures are parasitic.',\n",
       "  \"You must not judge of Celia's feeling from mine.  I think she likes\\nthese small pets.  She had a tiny terrier once, which she was very fond\\nof.  It made me unhappy, because I was afraid of treading on it.  I am\\nrather short-sighted.\",\n",
       "  \"I don't quite understand what you mean.\",\n",
       "  \"Or that seem sensible.  Perhaps we don't always discriminate between\\nsense and nonsense.\",\n",
       "  'Worth doing! yes, indeed,',\n",
       "  'I think we deserve to be beaten out of\\nour beautiful houses with a scourge of small cords—all of us who let\\ntenants live in such sties as we see round us.  Life in cottages might\\nbe happier than ours, if they were real houses fit for human beings\\nfrom whom we expect duties and affections.',\n",
       "  \"Yes, certainly.  I dare say it is very faulty.  But I have been\\nexamining all the plans for cottages in Loudon's book, and picked out\\nwhat seem the best things.  Oh what a happiness it would be to set the\\npattern about here!  I think instead of Lazarus at the gate, we should\\nput the pigsty cottages outside the park-gate.\",\n",
       "  'He is a good creature, and more sensible than any one would imagine,',\n",
       "  'No, no,',\n",
       "  'but he does not talk equally well on all\\nsubjects.',\n",
       "  'O Kitty, you are a wonderful creature!',\n",
       "  'Of course people need not be always talking well.  Only one\\ntells the quality of their minds when they try to talk well.',\n",
       "  'I was speaking generally.  Why do you catechise me about Sir James?\\nIt is not the object of his life to please me.',\n",
       "  'Certainly. He thinks of me as a future sister—that is all.',\n",
       "  'How can you let Tantripp talk such gossip to you, Celia?',\n",
       "  'You\\nmust have asked her questions.  It is degrading.',\n",
       "  'How could he expect it?',\n",
       "  'I have never agreed with him about anything but the cottages: I was\\nbarely polite to him before.',\n",
       "  'Fond of him, Celia!  How can you choose such odious expressions?',\n",
       "  'It is offensive to me to say that Sir James could think I was fond of\\nhim.  Besides, it is not the right word for the feeling I must have\\ntowards the man I would accept as a husband.',\n",
       "  'It is very painful,',\n",
       "  'I can have no\\nmore to do with the cottages.  I must be uncivil to him.  I must tell\\nhim I will have nothing to do with them.  It is very painful.',\n",
       "  \"Fad to draw plans!  Do you think I only care about my\\nfellow-creatures' houses in that childish way?  I may well make\\nmistakes.  How can one ever do anything nobly Christian, living among\\npeople with such petty thoughts?\",\n",
       "  'What news have\\nyou brought about the sheep-stealer, uncle?',\n",
       "  'When a man has great studies and is writing a great work, he must of\\ncourse give up seeing much of the world.  How can he go about making\\nacquaintances?',\n",
       "  'It would be a great honor to any one to be his companion,',\n",
       "  'Thank you, uncle,',\n",
       "  'I am\\nvery grateful to Mr. Casaubon.  If he makes me an offer, I shall accept\\nhim.  I admire and honor him more than any man I ever saw.',\n",
       "  'It is impossible that I should ever marry Sir James Chettam,',\n",
       "  'If he thinks of marrying me, he has made a great mistake.',\n",
       "  'Pray do not mention him in that light again, uncle,',\n",
       "  \" Well, but Casaubon, now.  There is no hurry—I mean for you.  It's\\ntrue, every year will tell upon him.  He is over five-and-forty, you\\nknow.  I should say a good seven-and-twenty years older than you.  To\\nbe sure,—if you like learning and standing, and that sort of thing, we\\ncan't have everything.  And his income is good—he has a handsome\\nproperty independent of the Church—his income is good.  Still he is\\nnot young, and I must not conceal from you, my dear, that I think his\\nhealth is not over-strong. I know nothing else against him.\",\n",
       "  'I should not wish to have a husband very near my own age,',\n",
       "  'I should wish to have a husband who\\nwas above me in judgment and in all knowledge.',\n",
       "  'I cannot imagine myself living without some opinions, but I should\\nwish to have good reasons for them, and a wise man could help me to see\\nwhich opinions had the best foundation, and would help me to live\\naccording to them.',\n",
       "  'I know that I must expect trials, uncle.  Marriage is a state of\\nhigher duties.  I never thought of it as mere personal ease,',\n",
       "  'I should be all the happier, uncle, the more room there was for me to\\nhelp him,',\n",
       "  'There was no need to think long, uncle.  I know of nothing to make me\\nvacillate.  If I changed my mind, it must be because of something\\nimportant and entirely new to me.',\n",
       "  'There is nothing that I like in him,',\n",
       "  'I mean in the light of a husband.  He is very kind, I think—really\\nvery good about the cottages.  A well-meaning man.',\n",
       "  'Celia, dear, come and kiss me,',\n",
       "  'No, dear, I am very, very happy,',\n",
       "  'Not that I know of.',\n",
       "  'What is there remarkable about his soup-eating?',\n",
       "  'Celia,',\n",
       "  \"pray don't make any\\nmore observations of that kind.\",\n",
       "  'Many things are true which only the commonest minds observe.',\n",
       "  'It is right to tell you, Celia, that I am engaged to marry Mr.\\nCasaubon.',\n",
       "  'Oh, Dodo, I hope you will be happy.',\n",
       "  \"I have accepted Mr. Casaubon's offer.  My uncle brought me the letter\\nthat contained it; he knew about it beforehand.\",\n",
       "  \"Never mind, Kitty, do not grieve.  We should never admire the same\\npeople.  I often offend in something of the same way; I am apt to speak\\ntoo strongly of those who don't please me.\",\n",
       "  'I am very ignorant—you will quite wonder at my ignorance,',\n",
       "  ' I have so many thoughts that may be quite mistaken; and now\\nI shall be able to tell them all to you, and ask you about them.  But,',\n",
       "  'I will not trouble you too much; only when you are inclined to listen\\nto me.  You must often be weary with the pursuit of subjects in your\\nown track.  I shall gain enough if you will take me with you there.',\n",
       "  'Could I not be preparing myself now to be more useful?',\n",
       "  \"could I not learn\\nto read Latin and Greek aloud to you, as Milton's daughters did to\\ntheir father, without understanding what they read?\",\n",
       "  \"Yes; but in the first place they were very naughty girls, else they\\nwould have been proud to minister to such a father; and in the second\\nplace they might have studied privately and taught themselves to\\nunderstand what they read, and then it would have been interesting.  I\\nhope you don't expect me to be naughty and stupid?\",\n",
       "  'Mr. Casaubon is not fond of the piano, and I am very glad he is not,',\n",
       "  'He says there is only an old harpsichord at Lowick,\\nand it is covered with books.',\n",
       "  'No; but music of that sort I should enjoy,',\n",
       "  'When we\\nwere coming home from Lausanne my uncle took us to hear the great organ\\nat Freiberg, and it made me sob.',\n",
       "  'It is very kind of you to think of that,',\n",
       "  'but I assure\\nyou I would rather have all those matters decided for me.  I shall be\\nmuch happier to take everything as it is—just as you have been used to\\nhave it, or as you will yourself choose it to be.  I have no motive for\\nwishing anything else.',\n",
       "  'No, uncle,',\n",
       "  \"Pray do not speak of altering\\nanything.  There are so many other things in the world that want\\naltering—I like to take these things as they are.  And you like them\\nas they are, don't you?\",\n",
       "  \"Perhaps\\nthis was your mother's room when she was young.\",\n",
       "  'This is your mother,',\n",
       "  'It is like the tiny one you brought me; only, I\\nshould think, a better portrait.  And this one opposite, who is this?',\n",
       "  'It is a peculiar face,',\n",
       "  'Those deep\\ngray eyes rather near together—and the delicate irregular nose with a\\nsort of ripple in it—and all the powdered curls hanging backward.\\nAltogether it seems to me peculiar rather than pretty.  There is not\\neven a family likeness between her and your mother.',\n",
       "  'You did not mention her to me,',\n",
       "  'Shall we not walk in the garden now?',\n",
       "  'Yes, please,',\n",
       "  'I should like\\nto see all that.',\n",
       "  'Is that astonishing, Celia?',\n",
       "  'I think it was a very cheap wish of his,',\n",
       "  'Are kings such monsters that a wish like that must be reckoned a royal\\nvirtue?',\n",
       "  'I am feeling something which is perhaps foolish and wrong,',\n",
       "  ' almost wishing that the people\\nwanted more to be done for them here.  I have known so few ways of\\nmaking my life good for anything.  Of course, my notions of usefulness\\nmust be narrow.  I must learn new ways of helping people.',\n",
       "  'Indeed, I believe that,',\n",
       "  'Do not suppose\\nthat I am sad.',\n",
       "  'I am no judge of these things,',\n",
       "  'You know, uncle, I never see\\nthe beauty of those pictures which you say are so much praised.  They\\nare a language I do not understand.  I suppose there is some relation\\nbetween pictures and nature which I am too ignorant to feel—just as\\nyou see what a Greek sentence stands for which means nothing to me.',\n",
       "  'Perhaps he has conscientious scruples founded on his own unfitness,',\n",
       "  \"Because the law and medicine should be very serious\\nprofessions to undertake, should they not? People's lives and fortunes\\ndepend on them.\",\n",
       "  'That is very kind of you,',\n",
       "  'It is noble.  After all, people may really have in them\\nsome vocation which is not quite plain to themselves, may they not?\\nThey may seem idle and weak because they are growing.  We should be\\nvery patient with each other, I think.',\n",
       "  'You mean that I am very impatient, Celia.',\n",
       "  'You must have misunderstood me very much,',\n",
       "  'if you think I\\nshould not enter into the value of your time—if you think that I\\nshould not willingly give up whatever interfered with your using it to\\nthe best purpose.',\n",
       "  'I beg you will not refer to this again,',\n",
       "  'Pray\\ndo not be anxious about me.  I shall have so much to think of when I am\\nalone.  And Tantripp will be a sufficient companion, just to take care\\nof me.  I could not bear to have Celia: she would be miserable.',\n",
       "  'Surely I am in a strangely selfish weak state of mind,',\n",
       "  'How can I have a husband who is so much above me without\\nknowing that he needs me less than I need him?'],\n",
       " '#MB': ['Sir Humphry Davy?',\n",
       "  'Sir Humphry Davy?',\n",
       "  \"Well, now, Sir Humphry Davy; I dined with him\\nyears ago at Cartwright's, and Wordsworth was there too—the poet\\nWordsworth, you know.  Now there was something singular.  I was at\\nCambridge when Wordsworth was there, and I never met him—and I dined\\nwith him twenty years afterwards at Cartwright's. There's an oddity in\\nthings, now.  But Davy was there: he was a poet too.  Or, as I may say,\\nWordsworth was poet one, and Davy was poet two.  That was true in every\\nsense, you know.\",\n",
       "  'A great mistake, Chettam,',\n",
       "  \"going into\\nelectrifying your land and that kind of thing, and making a parlor of\\nyour cow-house. It won't do.  I went into science a great deal myself\\nat one time; but I saw it would not do.  It leads to everything; you\\ncan let nothing alone.  No, no—see that your tenants don't sell their\\nstraw, and that kind of thing; and give them draining-tiles, you know.\\nBut your fancy farming will not do—the most expensive sort of whistle\\nyou can buy: you may as well keep a pack of hounds.\",\n",
       "  \"Young ladies don't understand political economy, you know,\",\n",
       "  \"I remember when we were all\\nreading Adam Smith.  There is a book, now.  I took in all the new\\nideas at one time—human perfectibility, now.  But some say, history\\nmoves in circles; and that may be very well argued; I have argued it\\nmyself.  The fact is, human reason may carry you a little too far—over\\nthe hedge, in fact.  It carried me a good way at one time; but I saw it\\nwould not do.  I pulled up; I pulled up in time.  But not too hard.  I\\nhave always been in favor of a little theory: we must have Thought;\\nelse we shall be landed back in the dark ages.  But talking of books,\\nthere is Southey's 'Peninsular War.' I am reading that of a morning.\\nYou know Southey?\",\n",
       "  'I made a great study of theology at one time,',\n",
       "  'I know something of all\\nschools.  I knew Wilberforce in his best days.  Do you know\\nWilberforce?',\n",
       "  'Well, Wilberforce was perhaps not enough of a thinker; but if I went\\ninto Parliament, as I have been asked to do, I should sit on the\\nindependent bench, as Wilberforce did, and work at philanthropy.',\n",
       "  'Yes,',\n",
       "  'but I have documents.  I\\nbegan a long while ago to collect documents.  They want arranging, but\\nwhen a question has struck me, I have written to somebody and got an\\nanswer.  I have documents at my back.  But now, how do you arrange your\\ndocuments?',\n",
       "  'Ah, pigeon-holes will not do.  I have tried pigeon-holes, but\\neverything gets mixed in pigeon-holes: I never know whether a paper is\\nin A or Z.',\n",
       "  'No, no,',\n",
       "  'I cannot let young ladies\\nmeddle with my documents.  Young ladies are too flighty.',\n",
       "  \"Look here—here is all about Greece.  Rhamnus, the ruins of\\nRhamnus—you are a great Grecian, now.  I don't know whether you have\\ngiven much study to the topography.  I spent no end of time in making\\nout these things—Helicon, now.  Here, now!—'We started the next\\nmorning for Parnassus, the double-peaked Parnassus.' All this volume is\\nabout Greece, you know,\",\n",
       "  'Well, my dears,',\n",
       "  'I hope\\nnothing disagreeable has happened while I have been away.',\n",
       "  \"I came by Lowick to lunch—you didn't know I came by Lowick.  And I\\nhave brought a couple of pamphlets for you, Dorothea—in the library,\\nyou know; they lie on the table in the library.\",\n",
       "  'I came back by Lowick, you know,',\n",
       "  \"I lunched there\\nand saw Casaubon's library, and that kind of thing.  There's a sharp\\nair, driving.  Won't you sit down, my dear?  You look cold.\",\n",
       "  \"What, poor Bunch?—well, it seems we can't get him off—he is to be\\nhanged.\",\n",
       "  'Hanged, you know,',\n",
       "  \"Poor Romilly!\\nhe would have helped us.  I knew Romilly.  Casaubon didn't know\\nRomilly.  He is a little buried in books, you know, Casaubon is.\",\n",
       "  \"That's true.  But a man mopes, you know.  I have always been a\\nbachelor too, but I have that sort of disposition that I never moped;\\nit was my way to go about everywhere and take in everything.  I never\\nmoped: but I can see that Casaubon does, you know.  He wants a\\ncompanion—a companion, you know.\",\n",
       "  'You like him, eh?',\n",
       "  \"Well, now, I've known Casaubon ten years, ever since\\nhe came to Lowick.  But I never got anything out of him—any ideas, you\\nknow.  However, he is a tiptop man and may be a bishop—that kind of\\nthing, you know, if Peel stays in.  And he has a very high opinion of\\nyou, my dear.\",\n",
       "  \"The fact is, he has a very high opinion indeed of you.  And he speaks\\nuncommonly well—does Casaubon.  He has deferred to me, you not being\\nof age.  In short, I have promised to speak to you, though I told him I\\nthought there was not much chance.  I was bound to tell him that.  I\\nsaid, my niece is very young, and that kind of thing.  But I didn't\\nthink it necessary to go into everything.  However, the long and the\\nshort of it is, that he has asked my permission to make you an offer of\\nmarriage—of marriage, you know,\",\n",
       "  'I thought it better to tell you, my dear.',\n",
       "  'I thought it better to tell you, my dear.',\n",
       "  'Ah? …  Well!  He is a good match in some respects.  But now, Chettam is\\na good match.  And our land lies together.  I shall never interfere\\nagainst your wishes, my dear.  People should have their own way in\\nmarriage, and that sort of thing—up to a certain point, you know.  I\\nhave always said that, up to a certain point.  I wish you to marry\\nwell; and I have good reason to believe that Chettam wishes to marry\\nyou.  I mention it, you know.',\n",
       "  'That is it, you see.  One never knows.  I should have thought Chettam\\nwas just the sort of man a woman would like, now.',\n",
       "  'Ah?—I thought you had more of your\\nown opinion than most girls.  I thought you liked your own\\nopinion—liked it, you know.',\n",
       "  \"Very true.  You couldn't put the thing better—couldn't put it better,\\nbeforehand, you know.  But there are oddities in things,\",\n",
       "  \"Life isn't cast in a mould—not cut out\\nby rule and line, and that sort of thing.  I never married myself, and\\nit will be the better for you and yours.  The fact is, I never loved\\nany one well enough to put myself into a noose for them.  It is a\\nnoose, you know.  Temper, now.  There is temper.  And a husband likes\\nto be master.\",\n",
       "  \"Well, you are not fond of show, a great establishment, balls, dinners,\\nthat kind of thing.  I can see that Casaubon's ways might suit you\\nbetter than Chettam's. And you shall do as you like, my dear.  I would\\nnot hinder Casaubon; I said so at once; for there is no knowing how\\nanything may turn out.  You have not the same tastes as every young\\nlady; and a clergyman and scholar—who may be a bishop—that kind of\\nthing—may suit you better than Chettam.  Chettam is a good fellow, a\\ngood sound-hearted fellow, you know; but he doesn't go much into ideas.\\nI did, when I was his age.  But Casaubon's eyes, now.  I think he has\\nhurt them a little with too much reading.\",\n",
       "  'You have quite made up your mind, I see.  Well, my dear, the fact is,\\nI have a letter for you in my pocket.',\n",
       "  'There is not too much\\nhurry, my dear.  Think about it, you know.',\n",
       "  'Have you thought enough about this, my dear?',\n",
       "  \"Ah!—then you have accepted him?  Then Chettam has no chance?  Has\\nChettam offended you—offended you, you know?  What is it you don't\\nlike in Chettam?\",\n",
       "  \"But you must have a scholar, and that sort of thing?  Well, it lies a\\nlittle in our family.  I had it myself—that love of knowledge, and\\ngoing into everything—a little too much—it took me too far; though\\nthat sort of thing doesn't often run in the female-line; or it runs\\nunderground like the rivers in Greece, you know—it comes out in the\\nsons.  Clever sons, clever mothers.  I went a good deal into that, at\\none time.  However, my dear, I have always said that people should do\\nas they like in these things, up to a certain point.  I couldn't, as\\nyour guardian, have consented to a bad match.  But Casaubon stands\\nwell: his position is good.  I am afraid Chettam will be hurt, though,\\nand Mrs. Cadwallader will blame me.\",\n",
       "  \"Casaubon, my dear: he will be here to dinner; he didn't wait to write\\nmore—didn't wait, you know.\",\n",
       "  'Nothing of the sort,',\n",
       "  \"Casaubon and I don't talk politics much.  He doesn't care much about\\nthe philanthropic side of things; punishments, and that kind of thing.\\nHe only cares about Church questions.  That is not my line of action,\\nyou know.\",\n",
       "  'Very good.  I was prepared to be persecuted for not persecuting—not\\npersecuting, you know.',\n",
       "  'That is what I expect, you know,',\n",
       "  'what I expect as\\nan independent man.  As to the Whigs, a man who goes with the thinkers\\nis not likely to be hooked on by any party.  He may go with them up to\\na certain point—up to a certain point, you know.  But that is what you\\nladies never understand. ',\n",
       "  \"I don't pretend to argue with a lady on politics,\",\n",
       "  \" I\\nwas going to say, poor Stoddart, you know.  That was what he said.\\nYou ladies are always against an independent attitude—a man's caring\\nfor nothing but truth, and that sort of thing.  And there is no part of\\nthe county where opinion is narrower than it is here—I don't mean to\\nthrow stones, you know, but somebody is wanted to take the independent\\nline; and if I don't take it, who will?\",\n",
       "  'I hope Chettam and I shall always be good friends; but I am sorry to\\nsay there is no prospect of his marrying my niece,',\n",
       "  'My niece has chosen another suitor—has chosen him, you know.  I have\\nhad nothing to do with it.  I should have preferred Chettam; and I\\nshould have said Chettam was the man any girl would have chosen.  But\\nthere is no accounting for these things.  Your sex is capricious, you\\nknow.',\n",
       "  'By the way, I must speak\\nto Wright about the horses,',\n",
       "  'Well, but now, Casaubon, such deep studies, classics, mathematics,\\nthat kind of thing, are too taxing for a woman—too taxing, you know.',\n",
       "  \"Ah, well, without understanding, you know—that may not be so bad.\\nBut there is a lightness about the feminine mind—a touch and\\ngo—music, the fine arts, that kind of thing—they should study those\\nup to a certain point, women should; but in a light way, you know.  A\\nwoman should be able to sit down and play you or sing you a good old\\nEnglish tune.  That is what I like; though I have heard most\\nthings—been at the opera in Vienna: Gluck, Mozart, everything of that\\nsort.  But I'm a conservative in music—it's not like ideas, you know.\\nI stick to the good old tunes.\",\n",
       "  \"Ah, there you are behind Celia, my dear.  Celia, now, plays very\\nprettily, and is always ready to play.  However, since Casaubon does\\nnot like it, you are all right.  But it's a pity you should not have\\nlittle recreations of that sort, Casaubon: the bow always strung—that\\nkind of thing, you know—will not do.\",\n",
       "  'That kind of thing is not healthy, my dear,',\n",
       "  'Casaubon, she will be in your hands now: you must teach my niece to\\ntake things more quietly, eh, Dorothea?',\n",
       "  ' it is wonderful that she should have liked him.  However, the\\nmatch is good.  I should have been travelling out of my brief to have\\nhindered it, let Mrs. Cadwallader say what she will.  He is pretty\\ncertain to be a bishop, is Casaubon.  That was a very seasonable\\npamphlet of his on the Catholic Question:—a deanery at least.  They\\nowe him a deanery.',\n",
       "  'Yes,',\n",
       "  'this would be a pretty room with some new\\nhangings, sofas, and that sort of thing.  A little bare now.',\n",
       "  'And you would like to see the church, you know,',\n",
       "  'It\\nis a droll little church.  And the village.  It all lies in a\\nnut-shell. By the way, it will suit you, Dorothea; for the cottages are\\nlike a row of alms-houses—little gardens, gilly-flowers, that sort of\\nthing.',\n",
       "  'There may be a young gardener, you know—why not?',\n",
       "  'I told Casaubon he should change his gardener.',\n",
       "  \"The curate's son, perhaps,\",\n",
       "  \"Ah, there is Casaubon\\nagain, and Tucker with him.  He is going to introduce Tucker.  You\\ndon't know Tucker yet.\",\n",
       "  'Your farmers leave some barley for\\nthe women to glean, I see.  The poor folks here might have a fowl in\\ntheir pot, as the good French king used to wish for all his people.\\nThe French eat a good many fowls—skinny fowls, you know.',\n",
       "  'Who is that youngster, Casaubon?',\n",
       "  'You are an artist, I see,',\n",
       "  'Oh, come, this is a nice bit, now.  I did a little in this way myself\\nat one time, you know.  Look here, now; this is what I call a nice\\nthing, done with what we used to call brio.',\n",
       "  \"Bless me, now, how different people are!  But you had a bad style of\\nteaching, you know—else this is just the thing for girls—sketching,\\nfine art and so on.  But you took to drawing plans; you don't\\nunderstand morbidezza, and that kind of thing.  You will come to my\\nhouse, I hope, and I will show you what I did in this way,\",\n",
       "  'We will turn over my Italian engravings together,',\n",
       "  'I have no end of those things, that I have laid by\\nfor years.  One gets rusty in this part of the country, you know.  Not\\nyou, Casaubon; you stick to your studies; but my best ideas get\\nundermost—out of use, you know.  You clever young men must guard\\nagainst indolence.  I was too indolent, you know: else I might have\\nbeen anywhere at one time.',\n",
       "  'What is your nephew going to do with himself, Casaubon?',\n",
       "  'Yes, yes, cousin.  But in the way of a career, you know.',\n",
       "  'He has no means but what you furnish, I suppose.',\n",
       "  'He has a thirst for travelling; perhaps he may turn out a Bruce or a\\nMungo Park,',\n",
       "  'I had a notion of that myself at one\\ntime.',\n",
       "  'Well, there is something in that, you know,',\n",
       "  \"Well, you know, he may turn out a Byron, a Chatterton, a\\nChurchill—that sort of thing—there's no telling,\",\n",
       "  'Shall you let him go to Italy, or wherever else he wants to go?',\n",
       "  'My protege?—dear me!—who is that?',\n",
       "  'Oh, Lydgate! he is not my protege, you know; only I knew an uncle of\\nhis who sent me a letter about him.  However, I think he is likely to\\nbe first-rate—has studied in Paris, knew Broussais; has ideas, you\\nknow—wants to raise the profession.',\n",
       "  'Well, you know, Standish, every dose you take is an experiment-an\\nexperiment, you know,'],\n",
       " '#JC': ['I am reading the Agricultural Chemistry,',\n",
       "  'I am reading the Agricultural Chemistry,',\n",
       "  'because I am going to take one of the farms into my own hands, and see\\nif something cannot be done in setting a good pattern of farming among\\nmy tenants.  Do you approve of that, Miss Brooke?',\n",
       "  'But you are fond of riding, Miss Brooke,',\n",
       "  'I should have thought you would enter a little\\ninto the pleasures of hunting.  I wish you would let me send over a\\nchestnut horse for you to try.  It has been trained for a lady.  I saw\\nyou on Saturday cantering over the hill on a nag not worthy of you.  My\\ngroom shall bring Corydon for you every day, if you will only mention\\nthe time.',\n",
       "  'No, that is too hard,',\n",
       "  'Your sister is given to self-mortification,\\nis she not?',\n",
       "  'Exactly,',\n",
       "  'You give up from some high, generous\\nmotive.',\n",
       "  'Let me hope that you will rescind that resolution about the horse,\\nMiss Brooke,',\n",
       "  'I assure you, riding is\\nthe most healthy of exercises.',\n",
       "  'But you are such a perfect horsewoman.',\n",
       "  'Then that is a reason for more practice.  Every lady ought to be a\\nperfect horsewoman, that she may accompany her husband.',\n",
       "  'I should like to know your reasons for this cruel resolution.  It is\\nnot possible that you should think horsemanship wrong.',\n",
       "  'Certainly,',\n",
       "  'Miss Brooke shall not be urged to\\ntell reasons she would rather be silent upon.  I am sure her reasons\\nwould do her honor.',\n",
       "  'How delightful to meet you, Miss Brooke,',\n",
       "  'It has hastened the pleasure I\\nwas looking forward to.',\n",
       "  'I have brought a little petitioner,',\n",
       "  'or rather, I have\\nbrought him to see if he will be approved before his petition is\\noffered.',\n",
       "  'Oh, why?',\n",
       "  'I am so glad I know that you do not like them,',\n",
       "  'I should never keep them for myself, but ladies usually are fond of\\nthese Maltese dogs.  Here, John, take this dog, will you?',\n",
       "  'You have your own opinion about everything, Miss Brooke, and it is\\nalways a good opinion.',\n",
       "  'Do you know, I envy you that,',\n",
       "  'Your power of forming an opinion.  I can form an opinion of persons.\\nI know when I like people.  But about other matters, do you know, I\\nhave often a difficulty in deciding.  One hears very sensible things\\nsaid on opposite sides.',\n",
       "  'Exactly,',\n",
       "  'But you seem to have the power of\\ndiscrimination.',\n",
       "  'On the contrary, I am often unable to decide.  But that is from\\nignorance.  The right conclusion is there all the same, though I am\\nunable to see it.',\n",
       "  'I think there are few who would see it more readily.  Do you know,\\nLovegood was telling me yesterday that you had the best notion in the\\nworld of a plan for cottages—quite wonderful for a young lady, he\\nthought.  You had a real genus, to use his expression.  He said you\\nwanted Mr. Brooke to build a new set of cottages, but he seemed to\\nthink it hardly probable that your uncle would consent.  Do you know,\\nthat is one of the things I wish to do—I mean, on my own estate.  I\\nshould be so glad to carry out that plan of yours, if you would let me\\nsee it.  Of course, it is sinking money; that is why people object to\\nit.  Laborers can never pay rent to make it answer.  But, after all, it\\nis worth doing.',\n",
       "  'Will you show me your plan?',\n",
       "  'Exactly,',\n",
       "  'Is that all?',\n",
       "  ' What?  Brooke standing for Middlemarch? ',\n",
       "  'What do you mean, Mrs. Cadwallader?',\n",
       "  'What\\nhas happened to Miss Brooke?  Pray speak out.',\n",
       "  'Casaubon?',\n",
       "  'Good God!  It is horrible!  He is no better than a mummy!',\n",
       "  'What business has an old bachelor like that to marry?',\n",
       "  'He has one foot in the grave.',\n",
       "  'Brooke ought not to allow it: he should insist on its being put off\\ntill she is of age.  She would think better of it then.  What is a\\nguardian for?',\n",
       "  'Cadwallader might talk to him.',\n",
       "  \"Oh, on my own account—it is for Miss Brooke's sake I think her\\nfriends should try to use their influence.\",\n",
       "  \"It is only this conduct of Brooke's. I really think somebody should\\nspeak to him.\",\n",
       "  \"Oh, I don't mean that,\",\n",
       "  'I mean this\\nmarriage.  I mean his letting that blooming young girl marry Casaubon.',\n",
       "  'She is too young to know what she likes.  Her guardian ought to\\ninterfere.  He ought not to allow the thing to be done in this headlong\\nmanner.  I wonder a man like you, Cadwallader—a man with daughters,\\ncan look at the affair with indifference: and with such a heart as\\nyours!  Do think seriously about it.',\n",
       "  'But look at Casaubon,',\n",
       "  \"He must be\\nfifty, and I don't believe he could ever have been much more than the\\nshadow of a man.  Look at his legs!\",\n",
       "  \"You! it was easy enough for a woman to love you.  But this is no\\nquestion of beauty.  I don't like Casaubon.\",\n",
       "  'Now, Cadwallader, has he got any heart?',\n",
       "  \"I don't know,\",\n",
       "  'I am not so sure of\\nmyself.',\n",
       "  \"That was a right thing\\nfor Casaubon to do.  But a man may wish to do what is right, and yet be\\na sort of parchment code.  A woman may not be happy with him.  And I\\nthink when a girl is so young as Miss Brooke is, her friends ought to\\ninterfere a little to hinder her from doing anything foolish.  You\\nlaugh, because you fancy I have some feeling on my own account.  But\\nupon my honor, it is not that.  I should feel just the same if I were\\nMiss Brooke's brother or uncle.\",\n",
       "  ' I should say that the marriage must not be decided on until she was of\\nage.  And depend upon it, in that case, it would never come off.  I\\nwish you saw it as I do—I wish you would talk to Brooke about it.',\n",
       "  'But seriously,',\n",
       "  \"don't you think the Rector might do some good by speaking?\",\n",
       "  'He might keep shape long enough to defer the marriage,',\n",
       "  'He has got no good red blood in his body,',\n",
       "  'Why does he not bring out his book, instead of marrying,',\n",
       "  'But if she were your own daughter?'],\n",
       " '#C': ['No,',\n",
       "  'No,',\n",
       "  'I have little leisure for such\\nliterature just now.  I have been using up my eyesight on old\\ncharacters lately; the fact is, I want a reader for my evenings; but I\\nam fastidious in voices, and I cannot endure listening to an imperfect\\nreader.  It is a misfortune, in some senses: I feed too much on the\\ninward sources; I live too much with the dead.  My mind is something\\nlike the ghost of an ancient, wandering about the world and trying\\nmentally to construct it as it used to be, in spite of ruin and\\nconfusing changes.  But I find it necessary to use the utmost caution\\nabout my eyesight.',\n",
       "  'No.',\n",
       "  'In pigeon-holes partly,',\n",
       "  'You have\\nan excellent secretary at hand, you perceive.',\n",
       "  'I never heard\\nyou make such a comparison before.',\n",
       "  'We must not inquire too curiously into motives,',\n",
       "  'Miss Brooke knows that they are apt to become feeble in\\nthe utterance: the aroma is mixed with the grosser air.  We must keep\\nthe germinating grain away from the light.',\n",
       "  'My dear young lady—Miss Brooke—Dorothea!',\n",
       "  'this is a happiness greater than I had ever\\nimagined to be in reserve for me.  That I should ever meet with a mind\\nand person so rich in the mingled graces which could render marriage\\ndesirable, was far indeed from my conception.  You have all—nay, more\\nthan all—those qualities which I have ever regarded as the\\ncharacteristic excellences of womanhood.  The great charm of your sex\\nis its capability of an ardent self-sacrificing affection, and herein\\nwe see its fitness to round and complete the existence of our own.\\nHitherto I have known few pleasures save of the severer kind: my\\nsatisfactions have been those of the solitary student.  I have been\\nlittle disposed to gather flowers that would wither in my hand, but now\\nI shall pluck them with eagerness, to place them in your bosom.',\n",
       "  'How should I be able now to persevere in any path without your\\ncompanionship?',\n",
       "  'I fear that would be wearisome to you,',\n",
       "  'and, indeed, if I remember rightly, the young women you have mentioned\\nregarded that exercise in unknown tongues as a ground for rebellion\\nagainst the poet.',\n",
       "  'I expect you to be all that an exquisite young lady can be in every\\npossible relation of life.  Certainly it might be a great advantage if\\nyou were able to copy the Greek character, and to that end it were well\\nto begin with a little reading.',\n",
       "  'Dorothea is learning to read the characters simply,',\n",
       "  'She had the very considerate thought\\nof saving my eyes.',\n",
       "  'I never could look on it in the light of a recreation to have my ears\\nteased with measured noises,',\n",
       "  'A tune much iterated\\nhas the ridiculous effect of making the words in my mind perform a sort\\nof minuet to keep time—an effect hardly tolerable, I imagine, after\\nboyhood.  As to the grander forms of music, worthy to accompany solemn\\ncelebrations, and even to serve as an educating influence according to\\nthe ancient conception, I say nothing, for with these we are not\\nimmediately concerned.',\n",
       "  'Now, my dear Dorothea, I wish you to favor me by pointing out which\\nroom you would like to have as your boudoir,',\n",
       "  'It was,',\n",
       "  'Her elder sister.  They were, like you and your sister, the only two\\nchildren of their parents, who hang above them, you see.',\n",
       "  'No. And they were not alike in their lot.',\n",
       "  'My aunt made an unfortunate marriage.  I never saw her.',\n",
       "  \"Yes, but the word has dropped out of the text, or perhaps was\\nsubauditum; that is, present in the king's mind, but not uttered,\",\n",
       "  'You seem a little sad, Dorothea.  I trust you are pleased with what\\nyou have seen.',\n",
       "  'Doubtless,',\n",
       "  'Each position has its corresponding\\nduties.  Yours, I trust, as the mistress of Lowick, will not leave any\\nyearning unfulfilled.',\n",
       "  'That is well.  But, if you are not tired, we will take another way to\\nthe house than that by which we came.',\n",
       "  'That is a young relative of mine, a second cousin: the grandson, in\\nfact,',\n",
       "  'of the lady whose portrait you\\nhave been noticing, my aunt Julia.',\n",
       "  'Dorothea, let me introduce to you my cousin, Mr. Ladislaw.  Will, this\\nis Miss Brooke.',\n",
       "  'That is a seasonable admonition,',\n",
       "  'but now we will\\npass on to the house, lest the young ladies should be tired of\\nstanding.',\n",
       "  'My cousin, you mean—not my nephew.',\n",
       "  'The answer to that question is painfully doubtful.  On leaving Rugby\\nhe declined to go to an English university, where I would gladly have\\nplaced him, and chose what I must consider the anomalous course of\\nstudying at Heidelberg.  And now he wants to go abroad again, without\\nany special object, save the vague purpose of what he calls culture,\\npreparation for he knows not what.  He declines to choose a profession.',\n",
       "  'I have always given him and his friends reason to understand that I\\nwould furnish in moderation what was necessary for providing him with a\\nscholarly education, and launching him respectably.  I am therefore\\nbound to fulfil the expectation so raised,',\n",
       "  \"No, he has no bent towards exploration, or the enlargement of our\\ngeognosis: that would be a special purpose which I could recognize with\\nsome approbation, though without felicitating him on a career which so\\noften ends in premature and violent death.  But so far is he from\\nhaving any desire for a more accurate knowledge of the earth's surface,\\nthat he said he should prefer not to know the sources of the Nile, and\\nthat there should be some unknown regions preserved as hunting grounds\\nfor the poetic imagination.\",\n",
       "  'It is, I fear, nothing more than a part of his general inaccuracy and\\nindisposition to thoroughness of all kinds, which would be a bad augury\\nfor him in any profession, civil or sacred, even were he so far\\nsubmissive to ordinary rule as to choose one.',\n",
       "  \" Doubtless; but I fear that my young relative Will Ladislaw is chiefly\\ndetermined in his aversion to these callings by a dislike to steady\\napplication, and to that kind of acquirement which is needful\\ninstrumentally, but is not charming or immediately inviting to\\nself-indulgent taste.  I have insisted to him on what Aristotle has\\nstated with admirable brevity, that for the achievement of any work\\nregarded as an end there must be a prior exercise of many energies or\\nacquired facilities of a secondary order, demanding patience.  I have\\npointed to my own manuscript volumes, which represent the toil of years\\npreparatory to a work not yet accomplished.  But in vain.  To careful\\nreasoning of this kind he replies by calling himself Pegasus, and every\\nform of prescribed work 'harness.'\",\n",
       "  'Yes; I have agreed to furnish him with moderate supplies for a year or\\nso; he asks no more.  I shall let him be tried by the test of freedom.',\n",
       "  ' I still regret that your sister is not to accompany us,',\n",
       "  'You will\\nhave many lonely hours, Dorothea, for I shall be constrained to make\\nthe utmost use of my time during our stay in Rome, and I should feel\\nmore at liberty if you had a companion.',\n",
       "  'That is very amiable in you, my dear Dorothea,',\n",
       "  'but if you had a lady as your\\ncompanion, I could put you both under the care of a cicerone, and we\\ncould thus achieve two purposes in the same space of time.',\n",
       "  'Lydgate has lots of ideas, quite new, about ventilation and diet, that\\nsort of thing,',\n",
       "  'But'],\n",
       " '#MrsCad': ['How do you do?',\n",
       "  'How do you do?',\n",
       "  'Well, Mrs. Fitchett, how are your fowls laying now?',\n",
       "  \"Oh, the cannibals!  Better sell them cheap at once.  What will you\\nsell them a couple?  One can't eat fowls of a bad character at a high\\nprice.\",\n",
       "  \"Half-a-crown, these times!  Come now—for the Rector's chicken-broth\\non a Sunday.  He has consumed all ours that I can spare.  You are half\\npaid with the sermon, Mrs. Fitchett, remember that.  Take a pair of\\ntumbler-pigeons for them—little beauties.  You must come and see them.\\nYou have no tumblers among your pigeons.\",\n",
       "  \"Oblige me!  It will be the best bargain he ever made.  A pair of\\nchurch pigeons for a couple of wicked Spanish fowls that eat their own\\neggs!  Don't you and Fitchett boast too much, that is all!\",\n",
       "  ' \"I see you have had our Lowick Cicero here,',\n",
       "  \"I suspect you and he are brewing some bad polities, else you\\nwould not be seeing so much of the lively man.  I shall inform against\\nyou: remember you are both suspicious characters since you took Peel's\\nside about the Catholic Bill.  I shall tell everybody that you are\\ngoing to put up for Middlemarch on the Whig side when old Pinkerton\\nresigns, and that Casaubon is going to help you in an underhand manner:\\ngoing to bribe the voters with pamphlets, and throw open the\\npublic-houses to distribute them.  Come, confess!\",\n",
       "  'Ra-a-ther too much, my friend.  I have heard of your doings.  Who was\\nit that sold his bit of land to the Papists at Middlemarch?  I believe\\nyou bought it on purpose.  You are a perfect Guy Faux.  See if you are\\nnot burnt in effigy this 5th of November coming.  Humphrey would not\\ncome to quarrel with you about it, so I am come.',\n",
       "  \"There you go!  That is a piece of clap-trap you have got ready for the\\nhustings.  Now, do not let them lure you to the hustings, my dear Mr.\\nBrooke.  A man always makes a fool of himself, speechifying: there's no\\nexcuse but being on the right side, so that you can ask a blessing on\\nyour humming and hawing.  You will lose yourself, I forewarn you.  You\\nwill make a Saturday pie of all parties' opinions, and be pelted by\\neverybody.\",\n",
       "  \"Where your certain point is?  No. I should like to be told how a man\\ncan have any certain point when he belongs to no party—leading a\\nroving life, and never letting his friends know his address.  'Nobody\\nknows where Brooke will be—there's no counting on Brooke'—that is\\nwhat people say of you, to be quite frank.  Now, do turn respectable.\\nHow will you like going to Sessions with everybody looking shy on you,\\nand you with a bad conscience and an empty pocket?\",\n",
       "  'Who?  Why, any upstart who has got neither blood nor position.  People\\nof standing should consume their independent nonsense at home, not hawk\\nit about.  And you! who are going to marry your niece, as good as your\\ndaughter, to one of our best men.  Sir James would be cruelly annoyed:\\nit will be too hard on him if you turn round now and make yourself a\\nWhig sign-board.',\n",
       "  'Why not?',\n",
       "  'It\\nis hardly a fortnight since you and I were talking about it.',\n",
       "  'Why, whom do you mean to say that you are going to let her marry?',\n",
       "  \"My dear child, what is this?—this about your sister's engagement?\",\n",
       "  'This is frightful.  How long has it been going on?',\n",
       "  'Well, my dear, I wish you joy of your brother-in-law.',\n",
       "  'Sorry!  It is her doing, I suppose.',\n",
       "  'With all my heart.',\n",
       "  \" Well, my dear, take warning.  You know the look of one now; when the\\nnext comes and wants to marry you, don't you accept him.\",\n",
       "  'No; one such in a family is enough.  So your sister never cared about\\nSir James Chettam?  What would you have said to him for a\\nbrother-in-law?',\n",
       "  'Not high-flown enough?',\n",
       "  'She must have encouraged him, I am sure.  That is not very creditable.',\n",
       "  'Well,',\n",
       "  \"I must go straight to Sir James and break this to him.  He\\nwill have brought his mother back by this time, and I must call.  Your\\nuncle will never tell him.  We are all disappointed, my dear.  Young\\npeople should think of their families in marrying.  I set a bad\\nexample—married a poor clergyman, and made myself a pitiable object\\namong the De Bracys—obliged to get my coals by stratagem, and pray to\\nheaven for my salad oil.  However, Casaubon has money enough; I must do\\nhim that justice.  As to his blood, I suppose the family quarterings\\nare three cuttle-fish sable, and a commentator rampant.  By the bye,\\nbefore I go, my dear, I must speak to your Mrs. Carter about pastry.  I\\nwant to send my young cook to learn of her.  Poor people with four\\nchildren, like us, you know, can't afford to keep a good cook.  I have\\nno doubt Mrs. Carter will oblige me.  Sir James's cook is a perfect\\ndragon.\",\n",
       "  'I have a great shock for you; I hope you are not so far gone in love\\nas you pretended to be.',\n",
       "  'I do believe Brooke is going to expose himself after all.  I accused\\nhim of meaning to stand for Middlemarch on the Liberal side, and he\\nlooked silly and never denied it—talked about the independent line,\\nand the usual nonsense.',\n",
       "  'Why,',\n",
       "  \"you don't mean\\nto say that you would like him to turn public man in that way—making a\\nsort of political Cheap Jack of himself?\",\n",
       "  \"That is what I told him.  He is vulnerable to reason there—always a\\nfew grains of common-sense in an ounce of miserliness.  Miserliness is\\na capital quality to run in families; it's the safe side for madness to\\ndip on.  And there must be a little crack in the Brooke family, else we\\nshould not see what we are to see.\",\n",
       "  'Worse than that.  I really feel a little responsible.  I always told\\nyou Miss Brooke would be such a fine match.  I knew there was a great\\ndeal of nonsense in her—a flighty sort of Methodistical stuff.  But\\nthese things wear out of girls.  However, I am taken by surprise for\\nonce.',\n",
       "  'Very well.  She is engaged to be married.',\n",
       "  'Engaged to Casaubon.',\n",
       "  'Even so.  You know my errand now.',\n",
       "  'She says, he is a great soul.—A great bladder for dried peas to\\nrattle in!',\n",
       "  'He means to draw it out again, I suppose.',\n",
       "  'As if you could ever squeeze a resolution out of Brooke!',\n",
       "  'Not he!  Humphrey finds everybody charming. I never can get him to\\nabuse Casaubon.  He will even speak well of the bishop, though I tell\\nhim it is unnatural in a beneficed clergyman; what can one do with a\\nhusband who attends so little to the decencies?  I hide it as well as I\\ncan by abusing everybody myself.  Come, come, cheer up!  you are well\\nrid of Miss Brooke, a girl who would have been requiring you to see the\\nstars by daylight.  Between ourselves, little Celia is worth two of\\nher, and likely after all to be the better match.  For this marriage to\\nCasaubon is as good as going to a nunnery.',\n",
       "  \"Well, Humphrey doesn't know yet.  But when I tell him, you may depend\\non it he will say, 'Why not?  Casaubon is a good fellow—and\\nyoung—young enough.' These charitable people never know vinegar from\\nwine till they have swallowed it and got the colic.  However, if I were\\na man I should prefer Celia, especially when Dorothea was gone.  The\\ntruth is, you have been courting one and have won the other.  I can see\\nthat she admires you almost as much as a man expects to be admired.  If\\nit were any one but me who said so, you might think it exaggeration.\\nGood-by!\",\n",
       "  'However,',\n",
       "  'I throw her over: there was a chance, if she had married\\nSir James, of her becoming a sane, sensible woman.  He would never have\\ncontradicted her, and when a woman is not contradicted, she has no\\nmotive for obstinacy in her absurdities.  But now I wish her joy of her\\nhair shirt.',\n",
       "  'I hear what you are talking about,',\n",
       "  'But you will make\\nno impression on Humphrey.  As long as the fish rise to his bait,\\neverybody is what he ought to be.  Bless you, Casaubon has got a\\ntrout-stream, and does not care about fishing in it himself: could\\nthere be a better fellow?',\n",
       "  'Oh, I told you beforehand what he would say,',\n",
       "  'I have done what I could: I\\nwash my hands of the marriage.',\n",
       "  'Humphrey!  I have no patience with you.  You know you would rather\\ndine under the hedge than with Casaubon alone.  You have nothing to say\\nto each other.',\n",
       "  'No. Somebody put a drop under a magnifying-glass and it was all\\nsemicolons and parentheses,',\n",
       "  \"Oh, he dreams footnotes, and they run away with all his brains.  They\\nsay, when he was a little boy, he made an abstract of 'Hop o' my\\nThumb,' and he has been making abstracts ever since.  Ugh!  And that is\\nthe man Humphrey goes on saying that a woman may be happy with.\",\n",
       "  'It strengthens the disease,',\n",
       "  \" Everything depends on the\\nconstitution: some people make fat, some blood, and some bile—that's\\nmy view of the matter; and whatever they take is a sort of grist to the\\nmill.\",\n",
       "  'Certainly it is reasonable.  You have two sorts of potatoes, fed on\\nthe same soil.  One of them grows more and more watery—',\n",
       "  \"Let her try a certain person's pamphlets,\",\n",
       "  'He does not want drying.',\n",
       "  ' The bridegroom—Casaubon. He has certainly been drying up faster since\\nthe engagement: the flame of passion, I suppose.',\n",
       "  \"Really, by the side of Sir James, he looks like a death's head skinned\\nover for the occasion.  Mark my words: in a year from this time that\\ngirl will hate him.  She looks up to him as an oracle now, and\\nby-and-by she will be at the other extreme.  All flightiness!\",\n",
       "  'The truth? he is as bad as the wrong physic—nasty to take, and sure\\nto disagree.',\n",
       "  'That is a generous make-believe of his.  Depend upon it, he likes\\nlittle Celia better, and she appreciates him.  I hope you like my\\nlittle Celia?',\n",
       "  'He is a gentleman.  I heard him talking to Humphrey.  He talks well.',\n",
       "  'She is talking cottages and hospitals with him,',\n",
       "  'I\\nbelieve he is a sort of philanthropist, so Brooke is sure to take him\\nup.'],\n",
       " 'JC': ['He might be dissuaded, I should think.  He would not like the expense.',\n",
       "  'He might be dissuaded, I should think.  He would not like the expense.'],\n",
       " '#MC': ['It is wonderful, though,', 'It is wonderful, though,'],\n",
       " '#MrCad': ['Well, how are you?',\n",
       "  'Well, how are you?',\n",
       "  'Sorry I missed you before.  Is there anything\\nparticular?  You look vexed.',\n",
       "  'What? meaning to stand?',\n",
       "  \"I hardly\\nthink he means it.  But where's the harm, if he likes it?  Any one who\\nobjects to Whiggery should be glad when the Whigs don't put up the\\nstrongest fellow.  They won't overturn the Constitution with our friend\\nBrooke's head for a battering ram.\",\n",
       "  'What is the matter with Casaubon?  I see no harm in him—if the girl\\nlikes him.',\n",
       "  'I am not joking; I am as serious as possible,',\n",
       "  \"Confound you handsome young fellows! you think of having it all your\\nown way in the world.  You don't understand women.  They don't admire\\nyou half so much as you admire yourselves.  Elinor used to tell her\\nsisters that she married me for my ugliness—it was so various and\\namusing that it had quite conquered her prudence.\",\n",
       "  'Why? what do you know against him?',\n",
       "  \"Well, yes.  I don't mean of the melting sort, but a sound kernel,\\nthat you may be sure of.  He is very good to his poor relations:\\npensions several of the women, and is educating a young fellow at a\\ngood deal of expense.  Casaubon acts up to his sense of justice.  His\\nmother's sister made a bad match—a Pole, I think—lost herself—at any\\nrate was disowned by her family.  If it had not been for that, Casaubon\\nwould not have had so much money by half.  I believe he went himself to\\nfind out his cousins, and see what he could do for them.  Every man\\nwould not ring so well as that, if you tried his metal.  You would,\\nChettam; but not every man.\",\n",
       "  'Well, but what should you do?',\n",
       "  'Well, there is something in that,',\n",
       "  'It is a very good quality in a man to have a\\ntrout-stream.',\n",
       "  'In the first place,',\n",
       "  \"it would\\nbe nonsensical to expect that I could convince Brooke, and make him act\\naccordingly.  Brooke is a very good fellow, but pulpy; he will run into\\nany mould, but he won't keep shape.\",\n",
       "  \"But, my dear Chettam, why should I use my influence to Casaubon's\\ndisadvantage, unless I were much surer than I am that I should be\\nacting for the advantage of Miss Brooke?  I know no harm of Casaubon.\\nI don't care about his Xisuthrus and Fee-fo-fum and the rest; but then\\nhe doesn't care about my fishing-tackle. As to the line he took on the\\nCatholic Question, that was unexpected; but he has always been civil to\\nme, and I don't see why I should spoil his sport.  For anything I can\\ntell, Miss Brooke may be happier with him than she would be with any\\nother man.\",\n",
       "  \"What has that to do with Miss Brooke's marrying him?  She does not do\\nit for my amusement.\",\n",
       "  'Well, he is what Miss Brooke likes,',\n",
       "  \"I don't\\nprofess to understand every young lady's taste.\",\n",
       "  \"That would be a different affair.  She is not my daughter, and I\\ndon't feel called upon to interfere.  Casaubon is as good as most of\\nus.  He is a scholarly clergyman, and creditable to the cloth.  Some\\nRadical fellow speechifying at Middlemarch said Casaubon was the\\nlearned straw-chopping incumbent, and Freke was the brick-and-mortar\\nincumbent, and I was the angling incumbent.  And upon my word, I don't\\nsee that one is worse or better than the other.\"],\n",
       " '#Lad': ['No, I only sketch a little.  There is nothing fit to be seen there,',\n",
       "  'No, I only sketch a little.  There is nothing fit to be seen there,'],\n",
       " '#Standish': ['A fine woman, Miss Brooke! an uncommonly fine woman, by God!',\n",
       "  'A fine woman, Miss Brooke! an uncommonly fine woman, by God!'],\n",
       " '#B': ['I should be disposed to refer coquetry to another source,',\n",
       "  'I should be disposed to refer coquetry to another source,',\n",
       "  'I should rather refer it to the devil.',\n",
       "  'Medical knowledge is at a low ebb among us,',\n",
       "  'I, for my part,\\nhail the advent of Mr. Lydgate.  I hope to find good reason for\\nconfiding the new hospital to his management.'],\n",
       " '#LC': ['Where can all the strength of those medicines go, my dear?',\n",
       "  'Where can all the strength of those medicines go, my dear?',\n",
       "  'Then she ought to take medicines that would reduce—reduce the\\ndisease, you know, if you are right, my dear.  And I think what you say\\nis reasonable.',\n",
       "  \" Ah! like this poor Mrs. Renfrew—that is what I think.  Dropsy!  There\\nis no swelling yet—it is inward.  I should say she ought to take\\ndrying medicines, shouldn't you?—or a dry hot-air bath.  Many things\\nmight be tried, of a drying nature.\",\n",
       "  'Who, my dear?',\n",
       "  'I should think he is far from having a good constitution,',\n",
       "  'And then his studies—so very\\ndry, as you say.',\n",
       "  'How very shocking!  I fear she is headstrong.  But tell me—you know\\nall about him—is there anything very bad?  What is the truth?',\n",
       "  'There could not be anything worse than that,',\n",
       "  'However, James\\nwill hear nothing against Miss Brooke.  He says she is the mirror of\\nwomen still.',\n",
       "  'Certainly; she is fonder of geraniums, and seems more docile, though\\nnot so fine a figure.  But we were talking of physic.  Tell me about\\nthis new young surgeon, Mr. Lydgate.  I am told he is wonderfully\\nclever: he certainly looks it—a fine brow indeed.',\n",
       "  \"Yes. Mr. Brooke says he is one of the Lydgates of Northumberland,\\nreally well connected.  One does not expect it in a practitioner of\\nthat kind.  For my own part, I like a medical man more on a footing\\nwith the servants; they are often all the cleverer.  I assure you I\\nfound poor Hicks's judgment unfailing; I never knew him wrong.  He was\\ncoarse and butcher-like, but he knew my constitution.  It was a loss to\\nme his going off so suddenly.  Dear me, what a very animated\\nconversation Miss Brooke seems to be having with this Mr. Lydgate!\",\n",
       "  'James,',\n",
       "  'bring Mr. Lydgate\\nand introduce him to me.  I want to test him.',\n",
       "  'I am quite pleased with your protege,',\n",
       "  'This young Lydgate, the new doctor. He seems to me to understand his\\nprofession admirably.'],\n",
       " '#MrV': ['I should be glad of any treatment that would cure me without reducing\\nme to a skeleton, like poor Grainger,',\n",
       "  'I should be glad of any treatment that would cure me without reducing\\nme to a skeleton, like poor Grainger,',\n",
       "  \"It's an\\nuncommonly dangerous thing to be left without any padding against the\\nshafts of disease, as somebody said,—and I think it a very good\\nexpression myself.\"],\n",
       " '#Lyd': ['She is a good creature—that fine girl—but a little too earnest,',\n",
       "  'She is a good creature—that fine girl—but a little too earnest,',\n",
       "  'It is troublesome to talk to such women.  They are always\\nwanting reasons, yet they are too ignorant to understand the merits of\\nany question, and usually fall back on their moral sense to settle\\nthings after their own taste.',\n",
       "  'She is grace itself; she is perfectly lovely\\nand accomplished.  That is what a woman ought to be: she ought to\\nproduce the effect of exquisite music.',\n",
       "  'Miss Vincy is a musician?'],\n",
       " '#MrsV': [\"Knock at Mr. Fred's door again, Pritchard, and tell him it has struck\\nhalf-past ten.\",\n",
       "  \"Knock at Mr. Fred's door again, Pritchard, and tell him it has struck\\nhalf-past ten.\",\n",
       "  'Oh, my dear, you are so hard on your brothers!  It is the only fault I\\nhave to find with you.  You are the sweetest temper in the world, but\\nyou are so tetchy with your brothers.',\n",
       "  'Well, but you want to deny them things.',\n",
       "  'Oh, my dear, you must allow for young men.  Be thankful if they have\\ngood hearts.  A woman must learn to put up with little things.  You\\nwill be married some day.',\n",
       "  \"Don't decry your own brother, my dear.  Few young men have less\\nagainst them, although he couldn't take his degree—I'm sure I can't\\nunderstand why, for he seems to me most clever.  And you know yourself\\nhe was thought equal to the best society at college.  So particular as\\nyou are, my dear, I wonder you are not glad to have such a gentlemanly\\nyoung man for a brother.  You are always finding fault with Bob because\\nhe is not Fred.\",\n",
       "  'Well, my dear, you will not find any Middlemarch young man who has not\\nsomething against him.',\n",
       "  \"So it seems, my love, for you have as good as refused the pick of\\nthem; and if there's better to be had, I'm sure there's no girl better\\ndeserves it.\",\n",
       "  'Why, what else are they?',\n",
       "  'Very likely, my dear; I never was a good speaker.  What should I say?',\n",
       "  \"Why, that seems just as plain and common.  If I had had time to think,\\nI should have said, 'the most superior young men.' But with your\\neducation you must know.\",\n",
       "  \"Whether it's right to say 'superior young men,'\",\n",
       "  'Dear me, how amusing it is to hear young people talk!',\n",
       "  \"Bless you both, my dears, and don't quarrel,\",\n",
       "  'Come, Fred, tell us all about the new doctor.\\nHow is your uncle pleased with him?',\n",
       "  \"But how came you to stay out so late, my dear?  You only said you were\\ngoing to your uncle's.\",\n",
       "  'And what do you think of him?  He is very gentlemanly, I suppose.\\nThey say he is of excellent family—his relations quite county people.',\n",
       "  'I thought it was odd his name was Tertius,',\n",
       "  \"but of course it's a name in the family.  But now, tell us\\nexactly what sort of man he is.\",\n",
       "  'Why, my dear, doctors must have opinions,',\n",
       "  'What are\\nthey there for else?',\n",
       "  'It is true, though—what your brother says, Rosamond,',\n",
       "  \"It is a thousand\\npities you haven't patience to go and see your uncle more, so proud of\\nyou as he is, and wanted you to live with him.  There's no knowing what\\nhe might have done for you as well as for Fred.  God knows, I'm fond of\\nhaving you at home with me, but I can part with my children for their\\ngood.  And now it stands to reason that your uncle Featherstone will do\\nsomething for Mary Garth.\",\n",
       "  \"He can't be long for this world, my dear; I wouldn't hasten his end,\\nbut what with asthma and that inward complaint, let us hope there is\\nsomething better for him in another.  And I have no ill-will towards\\nMary Garth, but there's justice to be thought of.  And Mr.\\nFeatherstone's first wife brought him no money, as my sister did.  Her\\nnieces and nephews can't have so much claim as my sister's.  And I must\\nsay I think Mary Garth a dreadful plain girl—more fit for a governess.\",\n",
       "  'Well, my dear,',\n",
       "  \"Well, well, by-and-by he'll go to his Latin and things,\",\n",
       "  \"There's a fire in the\\nsmoking-room on purpose.  It's your father's wish, you know—Fred, my\\ndear—and I always tell him you will be good, and go to college again\\nto take your degree.\"],\n",
       " '#R': ['Mamma,',\n",
       "  'Mamma,',\n",
       "  'when Fred comes down I wish you would not let\\nhim have red herrings.  I cannot bear the smell of them all over the\\nhouse at this hour of the morning.',\n",
       "  'Not tetchy, mamma: you never hear me speak in an unladylike way.',\n",
       "  'Brothers are so unpleasant.',\n",
       "  'Not to any one who is like Fred.',\n",
       "  'Oh no, mamma, only because he is Bob.',\n",
       "  ' But I shall not marry any\\nMiddlemarch young man.',\n",
       "  \"Excuse me, mamma—I wish you would not say, 'the pick of them.'\",\n",
       "  'I mean, mamma, it is rather a vulgar expression.',\n",
       "  'The best of them.',\n",
       "  'Are you beginning to dislike slang, then?',\n",
       "  'There is correct English: that is not slang.',\n",
       "  'You will say anything, Fred, to gain your point.',\n",
       "  'Of course you can call it poetry if you like.',\n",
       "  'Really, Fred,',\n",
       "  \"if\\nyou must have hot things for breakfast, I wish you would come down\\nearlier.  You can get up at six o'clock to go out hunting; I cannot\\nunderstand why you find it so difficult to get up on other mornings.\",\n",
       "  'What would you think of me if I came down two hours after every one\\nelse and ordered grilled bone?',\n",
       "  'I cannot see why brothers are to make themselves disagreeable, any\\nmore than sisters.',\n",
       "  'I think it describes the smell of grilled bone.',\n",
       "  'It always makes a difference, though, to be of good family,',\n",
       "  'I never can make out what you mean by a prig,',\n",
       "  'I suppose Mary Garth admires Mr. Lydgate,',\n",
       "  'I wish you would not be so vulgar, Fred.  If you have finished, pray\\nring the bell.',\n",
       "  'Mary Garth can bear being at Stone Court, because she likes that\\nbetter than being a governess,',\n",
       "  \"I\\nwould rather not have anything left to me if I must earn it by enduring\\nmuch of my uncle's cough and his ugly relations.\",\n",
       "  \"Fred's studies are not very deep,\",\n",
       "  'he is only reading a novel.',\n",
       "  'I suppose you are not going out riding to-day?',\n",
       "  'Papa says I may have the chestnut to ride now.',\n",
       "  'I want to ride so much, it is indifferent to me where we go.',\n",
       "  'Pray do not ask me this morning.',\n",
       "  'Really, Fred, I wish you would leave off playing the flute.  A man\\nlooks very silly playing the flute.  And you play so out of tune.',\n",
       "  'Why should you expect me to oblige you by hearing you play the flute,\\nany more than I should expect you to oblige me by not playing it?',\n",
       "  'Dear me,',\n",
       "  \"I hope none of my uncle's horrible relations\\nare there.\",\n",
       "  \"I don't know at all.  And she is not in the least evangelical,\",\n",
       "  'And, not poor,',\n",
       "  'How do you do, miss?',\n",
       "  'Seeing about the horses.  He will be in presently.',\n",
       "  'Oh no!  No one thinks of your appearance, you are so sensible and\\nuseful, Mary.  Beauty is of very little consequence in reality,',\n",
       "  'Poor Mary, she takes the kindest things ill.',\n",
       "  'What have you been doing lately?',\n",
       "  'It is a wretched life for you.',\n",
       "  'Yes; but Miss Morgan is so uninteresting, and not young.',\n",
       "  'No,',\n",
       "  'one wonders what such people do,\\nwithout any prospect.  To be sure, there is religion as a support.\\nBut,',\n",
       "  'it is very different with you, Mary.  You\\nmay have an offer.',\n",
       "  'Of course not.  I mean, there is a gentleman who may fall in love with\\nyou, seeing you almost every day.',\n",
       "  'Not when they are interesting and agreeable.  I hear that Mr. Lydgate\\nis both.',\n",
       "  'Merely, how you like him.',\n",
       "  ' Is he so haughty?',\n",
       "  'You\\nknow that he is of good family?',\n",
       "  'Mary! you are the oddest girl.  But what sort of looking man is he?\\nDescribe him to me.',\n",
       "  'I rather like a\\nhaughty manner.  I cannot endure a rattling young man.',\n",
       "  'Haughtiness is not conceit; I call Fred conceited.',\n",
       "  'Oh, Fred is horrid!',\n",
       "  'He is so idle, and makes papa so angry, and says he will not take\\norders.',\n",
       "  'How can you say he is quite right, Mary?  I thought you had more sense\\nof religion.',\n",
       "  'But he ought to be fit.',\n",
       "  'But no one approves of them.  I should not like to marry a clergyman;\\nbut there must be clergymen.',\n",
       "  'But when papa has been at the expense of educating him for it!  And\\nonly suppose, if he should have no fortune left him?',\n",
       "  'But of course if he were a clergyman, he must be different.',\n",
       "  \"It is of no use saying anything to you, Mary.  You always take Fred's\\npart.\",\n",
       "  'You make me feel very uncomfortable, Mary,',\n",
       "  'I would not tell mamma for the world.',\n",
       "  'Pray do not go into a rage, Mary,',\n",
       "  'Mary, you are always so violent.',\n",
       "  'I?  What can you blame me for?',\n",
       "  'I did not mean to quarrel,',\n",
       "  'Am I to repeat what you have said?\" ',\n",
       "  'That has made me forget how the time was going,',\n",
       "  'Fred, we must really go.',\n",
       "  'Middlemarch has not a very high standard, uncle,',\n",
       "  'Yes, indeed, she did.',\n",
       "  'That you were very unsteady.',\n",
       "  'I should think that was enough, Fred.',\n",
       "  'Mary mentioned nothing else.  But really, Fred, I think you ought to\\nbe ashamed.',\n",
       "  'I am not obliged to tell you.  You care so very much what Mary says,\\nand you are too rude to allow me to speak.',\n",
       "  'I should never have thought she was a girl to fall in love with.',\n",
       "  'At least, Fred, let me advise you not to fall in love with her, for\\nshe says she would not marry you if you asked her.',\n",
       "  'I knew it would nettle you, Fred.'],\n",
       " '#F': ['What must Rosy know, mother?',\n",
       "  'What must Rosy know, mother?',\n",
       "  \"Oh, there are so many superior teas and sugars now.  Superior is\\ngetting to be shopkeepers' slang.\",\n",
       "  'Only the wrong sort.  All choice of words is slang.  It marks a class.',\n",
       "  'I beg your pardon: correct English is the slang of prigs who write\\nhistory and essays.  And the strongest slang of all is the slang of\\npoets.',\n",
       "  'Well, tell me whether it is slang or poetry to call an ox a\\nleg-plaiter.',\n",
       "  \"Aha, Miss Rosy, you don't know Homer from slang.  I shall invent a new\\ngame; I shall write bits of slang and poetry on slips, and give them to\\nyou to separate.\",\n",
       "  'Have you got nothing else for my breakfast, Pritchard?',\n",
       "  'Eggs, no!  Bring me a grilled bone.',\n",
       "  'That is your want of understanding, Rosy.  I can get up to go hunting\\nbecause I like it.',\n",
       "  'I should think you were an uncommonly fast young lady,',\n",
       "  \"I don't make myself disagreeable; it is you who find me so.\\nDisagreeable is a word that describes your feelings and not my actions.\",\n",
       "  \"Not at all.  It describes a sensation in your little nose associated\\nwith certain finicking notions which are the classics of Mrs. Lemon's\\nschool.  Look at my mother; you don't see her objecting to everything\\nexcept what she does herself.  She is my notion of a pleasant woman.\",\n",
       "  \"Pretty well, I think.  He asks Lydgate all sorts of questions and then\\nscrews up his face while he hears the answers, as if they were pinching\\nhis toes.  That's his way.  Ah, here comes my grilled bone.\",\n",
       "  \"Oh, I dined at Plymdale's. We had whist.  Lydgate was there too.\",\n",
       "  'Yes,',\n",
       "  \"There was a Lydgate at John's who spent no end of\\nmoney.  I find this man is a second cousin of his.  But rich men may\\nhave very poor devils for second cousins.\",\n",
       "  'Oh, tallish, dark, clever—talks well—rather a prig, I think.',\n",
       "  'A fellow who wants to show that he has opinions.',\n",
       "  'Yes, mother, the opinions they are paid for.  But a prig is a fellow\\nwho is always making you a present of his opinions.',\n",
       "  \"Really, I can't say.\",\n",
       "  'If you are jealous of her, go oftener to Stone\\nCourt yourself and eclipse her.',\n",
       "  'Every one would not agree with you there, mother,',\n",
       "  'No; why?',\n",
       "  'You can go with me to-morrow, if you like.  Only I am going to Stone\\nCourt, remember.',\n",
       "  'Oh, I say, Rosy,',\n",
       "  'if\\nyou are going to the piano, let me come and play some airs with you.',\n",
       "  'Why not this morning?',\n",
       "  'When next any one makes love to you, Miss Rosamond, I will tell him\\nhow obliging you are.',\n",
       "  'And why should you expect me to take you out riding?',\n",
       "  \"They are, though.  That is Mrs. Waule's gig—the last yellow gig left,\\nI should think.  When I see Mrs. Waule in it, I understand how yellow\\ncan have been worn for mourning.  That gig seems to me more funereal\\nthan a hearse.  But then Mrs. Waule always has black crape on.  How\\ndoes she manage it, Rosy?  Her friends can't always be dying.\",\n",
       "  \"No, by George!  They are as rich as Jews, those Waules and\\nFeatherstones; I mean, for people like them, who don't want to spend\\nanything.  And yet they hang about my uncle like vultures, and are\\nafraid of a farthing going away from their side of the family.  But I\\nbelieve he hates them all.\",\n",
       "  \"I don't know what you refer to, sir.  I have certainly never borrowed\\nany money on such an insecurity.  Please do explain.\",\n",
       "  'I have contradicted it, sir,',\n",
       "  'But I\\ncontradict it again.  The story is a silly lie.',\n",
       "  'Name the authority, and make him name the man of whom I borrowed the\\nmoney, and then I can disprove the story.',\n",
       "  'Mr. Bulstrode?',\n",
       "  'Then the story has grown into this lie out of some sermonizing words\\nhe may have let fall about me.  Do they pretend that he named the man\\nwho lent me the money?',\n",
       "  'You must be joking, sir.  Mr. Bulstrode, like other men, believes\\nscores of things that are not true, and he has a prejudice against me.\\nI could easily get him to write that he knew no facts in proof of the\\nreport you speak of, though it might lead to unpleasantness.  But I\\ncould hardly ask him to write down what he believes or does not believe\\nabout me.',\n",
       "  'That is hardly a thing for a gentleman to ask.',\n",
       "  'I beg your pardon, sir,',\n",
       "  'I like neither Bulstrode\\nnor speculation.',\n",
       "  'I am not ungrateful, sir.  I never meant to show disregard for any\\nkind intentions you might have towards me.  On the contrary.',\n",
       "  'They amuse her, sir.  She is very fond of reading.',\n",
       "  'Yes, sir, I hear.',\n",
       "  'Then I wonder you can defend Fred,',\n",
       "  'Very good,',\n",
       "  \"I'm afraid I'm out of court, sir.  My evidence would be good for\\nnothing.\",\n",
       "  'Rosy, did Mary tell you that Mrs. Waule had said anything about me?',\n",
       "  'What?',\n",
       "  'Was that all?',\n",
       "  'You are sure she said no more?',\n",
       "  \"Oh, fudge!  Don't lecture me.  What did Mary say about it?\",\n",
       "  'Of course I care what Mary says.  She is the best girl I know.',\n",
       "  'How do you know what men would fall in love with?  Girls never know.',\n",
       "  'She might have waited till I did ask her.',\n",
       "  'Not at all.  She would not have said so if you had not provoked her.'],\n",
       " '#MrF': ['What are you driving at there?',\n",
       "  'What are you driving at there?',\n",
       "  \"Tchah! you said nothing o' the sort.  You said somebody had made free\\nwith my name.\",\n",
       "  \"Nonsense!  What's a game at billiards?  It's a good gentlemanly game;\\nand young Vincy is not a clodhopper.  If your son John took to\\nbilliards, now, he'd make a fool of himself.\",\n",
       "  \"What's Bulstrode to me?  I don't bank with him.\",\n",
       "  \"And who pretends to say Fred Vincy hasn't got expectations?  Such a\\nfine, spirited fellow is like enough to have 'em.\",\n",
       "  'Come, out with it, Jane!',\n",
       "  'You\\nmean to say, Fred Vincy has been getting somebody to advance him money\\non what he says he knows about my will, eh?',\n",
       "  \"Stuff and nonsense!  I don't believe a word of it.  It's all a got-up\\nstory.  Go to the window, missy; I thought I heard a horse.  See if the\\ndoctor's coming.\",\n",
       "  'The more fool he!',\n",
       "  'Heyday, miss!',\n",
       "  \"you have a fine color.  Where's Fred?\",\n",
       "  \"Sit down, sit down.  Mrs. Waule, you'd better go.\",\n",
       "  \"Ay, ay, I remember—you'll see I've remembered 'em all—all dark and\\nugly.  They'd need have some money, eh?  There never was any beauty in\\nthe women of our family; but the Featherstones have always had some\\nmoney, and the Waules too.  Waule had money too.  A warm man was Waule.\\nAy, ay; money's a good egg; and if you 've got money to leave behind\\nyou, lay it in a warm nest.  Good-by, Mrs. Waule.\",\n",
       "  'You two misses go away,',\n",
       "  'I want to speak to\\nFred.',\n",
       "  \"So, sir, you've been paying ten per cent for money which you've\\npromised to pay off by mortgaging my land when I'm dead and gone, eh?\\nYou put my life at a twelvemonth, say.  But I can alter my will yet.\",\n",
       "  \"No, sir, it's you must explain.  I can alter my will yet, let me tell\\nyou.  I'm of sound mind—can reckon compound interest in my head, and\\nremember every fool's name as well as I could twenty years ago.  What\\nthe deuce?  I'm under eighty.  I say, you must contradict this story.\",\n",
       "  'Nonsense! you must bring documents.  It comes from authority.',\n",
       "  \"It's pretty good authority, I think—a man who knows most of what goes\\non in Middlemarch.  It's that fine, religious, charitable uncle o'\\nyours.  Come now!\",\n",
       "  'Who else, eh?',\n",
       "  \"If there is such a man, depend upon it Bulstrode knows him.  But,\\nsupposing you only tried to get the money lent, and didn't get\\nit—Bulstrode 'ud know that too.  You bring me a writing from Bulstrode\\nto say he doesn't believe you've ever promised to pay your debts out o'\\nmy land.  Come now!\",\n",
       "  \"Ay, I know what you mean.  You'd sooner offend me than Bulstrode.  And\\nwhat's he?—he's got no land hereabout that ever I heard tell of.  A\\nspeckilating fellow!  He may come down any day, when the devil leaves\\noff backing him.  And that's what his religion means: he wants God\\nA'mighty to come in.  That's nonsense!  There's one thing I made out\\npretty clear when I used to go to church—and it's this: God A'mighty\\nsticks to the land.  He promises land, and He gives land, and He makes\\nchaps rich with corn and cattle.  But you take the other side.  You\\nlike Bulstrode and speckilation better than Featherstone and land.\",\n",
       "  \"Well, well, you can do without me, that's pretty clear,\",\n",
       "  \"You neither want a bit of land to make a\\nsquire of you instead of a starving parson, nor a lift of a hundred\\npound by the way.  It's all one to me.  I can make five codicils if I\\nlike, and I shall keep my bank-notes for a nest-egg. It's all one to\\nme.\",\n",
       "  \"Very good.  Then prove it.  You bring me a letter from Bulstrode\\nsaying he doesn't believe you've been cracking and promising to pay\\nyour debts out o' my land, and then, if there's any scrape you've got\\ninto, we'll see if I can't back you a bit.  Come now!  That's a\\nbargain.  Here, give me your arm.  I'll try and walk round the room.\",\n",
       "  \"Read me the names o' the books.  Come now! you're a college man.\",\n",
       "  'What did missy want with more books?  What must you be bringing her\\nmore books for?',\n",
       "  'A little too fond,',\n",
       "  \"She was for\\nreading when she sat with me.  But I put a stop to that.  She's got the\\nnewspaper to read out loud.  That's enough for one day, I should think.\\nI can't abide to see her reading to herself.  You mind and not bring\\nher any more books, do you hear?\",\n",
       "  'Ring the bell,',\n",
       "  'I want missy to come down.',\n",
       "  \"Miss Rosy has been singing me a song—you've nothing to say against\\nthat, eh, doctor?\",\n",
       "  'I like it better than your\\nphysic.',\n",
       "  \"The best in Middlemarch, I'll be bound,\",\n",
       "  'let\\nthe next be who she will.  Eh, Fred?  Speak up for your sister.'],\n",
       " '#MrsWaule': [\"The doctors can't master that cough, brother.  It's just like what I\\nhave; for I'm your own sister, constitution and everything.  But, as I\\nwas saying, it's a pity Mrs. Vincy's family can't be better conducted.\",\n",
       "  \"The doctors can't master that cough, brother.  It's just like what I\\nhave; for I'm your own sister, constitution and everything.  But, as I\\nwas saying, it's a pity Mrs. Vincy's family can't be better conducted.\",\n",
       "  \"And no more than can be proved, if what everybody says is true.  My\\nbrother Solomon tells me it's the talk up and down in Middlemarch how\\nunsteady young Vincy is, and has been forever gambling at billiards\\nsince home he came.\",\n",
       "  \"Your nephew John never took to billiards or any other game, brother,\\nand is far from losing hundreds of pounds, which, if what everybody\\nsays is true, must be found somewhere else than out of Mr. Vincy the\\nfather's pocket.  For they say he's been losing money for years, though\\nnobody would think so, to see him go coursing and keeping open house as\\nthey do.  And I've heard say Mr. Bulstrode condemns Mrs. Vincy beyond\\nanything for her flightiness, and spoiling her children so.\",\n",
       "  \"Well, Mrs. Bulstrode is Mr. Vincy's own sister, and they do say that\\nMr. Vincy mostly trades on the Bank money; and you may see yourself,\\nbrother, when a woman past forty has pink strings always flying, and\\nthat light way of laughing at everything, it's very unbecoming.  But\\nindulging your children is one thing, and finding money to pay their\\ndebts is another.  And it's openly said that young Vincy has raised\\nmoney on his expectations.  I don't say what expectations.  Miss Garth\\nhears me, and is welcome to tell again.  I know young people hang\\ntogether.\",\n",
       "  \"Whether or no, brother, it is naturally painful to me and my brother\\nSolomon to hear your name made free with, and your complaint being such\\nas may carry you off sudden, and people who are no more Featherstones\\nthan the Merry-Andrew at the fair, openly reckoning on your property\\ncoming to them.  And me your own sister, and Solomon your own\\nbrother!  And if that's to be it, what has it pleased the Almighty to\\nmake families for?\",\n",
       "  'I never said so, brother',\n",
       "  'It was told me by my brother Solomon last night when he\\ncalled coming from market to give me advice about the old wheat, me\\nbeing a widow, and my son John only three-and-twenty, though steady\\nbeyond anything.  And he had it from most undeniable authority, and not\\none, but many.',\n",
       "  \"Not got up by me, brother, nor yet by Solomon, who, whatever else he\\nmay be—and I don't deny he has oddities—has made his will and parted\\nhis property equal between such kin as he's friends with; though, for\\nmy part, I think there are times when some should be considered more\\nthan others.  But Solomon makes it no secret what he means to do.\",\n",
       "  \" Brother, I\\nhope the new doctor will be able to do something for you.  Solomon says\\nthere's great talk of his cleverness.  I'm sure it's my wish you should\\nbe spared.  And there's none more ready to nurse you than your own\\nsister and your own nieces, if you'd only say the word.  There's\\nRebecca, and Joanna, and Elizabeth, you know.\"],\n",
       " '#M': ['No, thank you, Mrs. Waule,',\n",
       "  'No, thank you, Mrs. Waule,',\n",
       "  'I dislike hearing\\nscandal too much to wish to repeat it.',\n",
       "  'Come into my room, Rosamond, you will not mind the cold for a little\\nwhile,',\n",
       "  'What a brown patch I am by the side of you, Rosy!  You are the most\\nunbecoming companion.',\n",
       "  'You mean my beauty,',\n",
       "  'I?  Oh, minding the house—pouring out syrup—pretending to be amiable\\nand contented—learning to have a bad opinion of everybody.',\n",
       "  'No,',\n",
       "  \"I think my\\nlife is pleasanter than your Miss Morgan's.\",\n",
       "  'She is interesting to herself, I suppose; and I am not at all sure\\nthat everything gets easier as one gets older.',\n",
       "  'Has any one told you he means to make me one?',\n",
       "  'Does that always make people fall in love?',\n",
       "  'it seems to me quite as often a reason for detesting each other.',\n",
       "  'Oh, Mr. Lydgate!',\n",
       "  'You want to know something about him,',\n",
       "  'There is no question of liking at present.  My liking always wants\\nsome little kindness to kindle it.  I am not magnanimous enough to like\\npeople who speak to me without seeming to see me.',\n",
       "  'No; he did not give that as a reason.',\n",
       "  'How can one describe a man?  I can give you an inventory: heavy\\neyebrows, dark eyes, a straight nose, thick dark hair, large solid\\nwhite hands—and—let me see—oh, an exquisite cambric\\npocket-handkerchief.  But you will see him.  You know this is about the\\ntime of his visits.',\n",
       "  'I did not tell you that Mr. Lydgate was haughty; but il y en a pour\\ntous les gouts, as little Mamselle used to say, and if any girl can\\nchoose the particular sort of conceit she would like, I should think it\\nis you, Rosy.',\n",
       "  'I wish no one said any worse of him.  He should be more careful.  Mrs.\\nWaule has been telling uncle that Fred is very unsteady.',\n",
       "  'What do you mean by horrid?',\n",
       "  'I think Fred is quite right.',\n",
       "  'He is not fit to be a clergyman.',\n",
       "  ' Well, then, he is not what he ought to be.\\nI know some other people who are in the same case.',\n",
       "  'It does not follow that Fred must be one.',\n",
       "  'I can suppose that very well,',\n",
       "  \"I don't defend him,\",\n",
       "  'I would defend any parish\\nfrom having him for a clergyman.',\n",
       "  'Yes, he would be a great hypocrite; and he is not that yet.',\n",
       "  'Why should I not take his part?',\n",
       "  'He would\\ntake mine.  He is the only person who takes the least trouble to oblige\\nme.',\n",
       "  'What would you not tell her?',\n",
       "  'If your mamma is afraid that Fred will make me an offer, tell her that\\nI would not marry him if he asked me.  But he is not going to do so,\\nthat I am aware.  He certainly never has asked me.',\n",
       "  'And you are always so exasperating.',\n",
       "  'Oh, blameless people are always the most exasperating.  There is the\\nbell—I think we must go down.',\n",
       "  'Quarrel?  Nonsense; we have not quarrelled.  If one is not to get into\\na rage sometimes, what is the good of being friends?',\n",
       "  ' Just as you please.  I never say\\nwhat I am afraid of having repeated.  But let us go down.']}"
      ]
     },
     "execution_count": 26,
     "metadata": {},
     "output_type": "execute_result"
    }
   ],
   "source": [
    "dialogueDict"
   ]
  },
  {
   "cell_type": "code",
   "execution_count": 32,
   "metadata": {},
   "outputs": [],
   "source": [
    "numUtterances = [(char, len(utterances)) for char, utterances in dialogueDict.items()]\n",
    "    "
   ]
  },
  {
   "cell_type": "code",
   "execution_count": 37,
   "metadata": {},
   "outputs": [
    {
     "name": "stdout",
     "output_type": "stream",
     "text": [
      "['#Celia', '#D', '#MB', '#JC', '#C', '#MrsCad', 'JC', '#MC', '#MrCad', '#Lad', '#Standish', '#B', '#LC', '#MrV', '#Lyd', '#MrsV', '#R', '#F', '#MrF', '#MrsWaule', '#M'] [78, 142, 84, 61, 47, 61, 2, 2, 20, 2, 2, 5, 16, 3, 5, 27, 82, 57, 36, 10, 37]\n"
     ]
    }
   ],
   "source": [
    "chars = [item[0] for item in numUtterances]\n",
    "numUtts = [item[1] for item in numUtterances]\n",
    "print(chars, numUtts)"
   ]
  },
  {
   "cell_type": "code",
   "execution_count": 42,
   "metadata": {},
   "outputs": [
    {
     "data": {
      "text/plain": [
       "<matplotlib.axes._subplots.AxesSubplot at 0x7f5e7482c518>"
      ]
     },
     "execution_count": 42,
     "metadata": {},
     "output_type": "execute_result"
    },
    {
     "data": {
      "image/png": "[encoded data removed]",
      "text/plain": [
       "<Figure size 864x576 with 1 Axes>"
      ]
     },
     "metadata": {
      "needs_background": "light"
     },
     "output_type": "display_data"
    }
   ],
   "source": [
    "pd.Series(numUtts, index=chars).plot(kind='bar')"
   ]
  },
  {
   "cell_type": "markdown",
   "metadata": {},
   "source": [
    "# Get all Celia Text and Analyze"
   ]
  },
  {
   "cell_type": "code",
   "execution_count": 57,
   "metadata": {},
   "outputs": [],
   "source": [
    "celias = soup.findAll('said', attrs={'who': '#Celia'})"
   ]
  },
  {
   "cell_type": "code",
   "execution_count": 17,
   "metadata": {},
   "outputs": [
    {
     "data": {
      "text/plain": [
       "\" Dorothea, dear, if you don't mind—if you are not very busy—suppose\\nwe looked at mamma's jewels to-day, and divided them?  It is exactly\\nsix months to-day since uncle gave them to you, and you have not looked\\nat them yet.\""
      ]
     },
     "execution_count": 17,
     "metadata": {},
     "output_type": "execute_result"
    }
   ],
   "source": [
    "celias[0].get_text()"
   ]
  },
  {
   "cell_type": "code",
   "execution_count": 20,
   "metadata": {},
   "outputs": [],
   "source": [
    "celiaStrings = [utterance.get_text() for utterance in celias]"
   ]
  },
  {
   "cell_type": "code",
   "execution_count": 23,
   "metadata": {},
   "outputs": [],
   "source": [
    "allCelias = ' '.join(celiaStrings)"
   ]
  },
  {
   "cell_type": "code",
   "execution_count": 33,
   "metadata": {},
   "outputs": [],
   "source": [
    "celiasText = nltk.Text(nltk.word_tokenize(allCelias))"
   ]
  },
  {
   "cell_type": "code",
   "execution_count": 36,
   "metadata": {},
   "outputs": [
    {
     "name": "stdout",
     "output_type": "stream",
     "text": [
      "Displaying 13 of 13 matches:\n",
      " who wore jewels . They are here , O Dodo , you must keep the cross yourself .\n",
      "n them ? Mr. Casaubon is so sallow . Dodo ! I wonder you show temper , Dorothe\n",
      "e talks very little , He thinks that Dodo cares about him , and she only cares\n",
      "at Sir James tries and fails . Now , Dodo , can you really believe that ? Pray\n",
      "o not make that mistake any longer , Dodo . When Tantripp was brushing my hair\n",
      " is quite plain . That 's your way , Dodo . Wait a little . Think about it . Y\n",
      "ll be nobody besides Lovegood . Poor Dodo , It is very hard : it is your favor\n",
      "n at home to lunch . Do n't sit up , Dodo , you are so pale to-night : go to b\n",
      " hear him eat his soup so . Really , Dodo , ca n't you hear how he scrapes his\n",
      "f I have said anything to hurt you , Dodo , She is engaged to marry Mr. Casaub\n",
      "hink he would have suited Dorothea . Dodo is very strict . She thinks so much \n",
      "se her . Please do n't be angry with Dodo ; she does not see things . She thou\n",
      "ave been pleasanter than this . Oh , Dodo , will you not have the bow-windowed\n"
     ]
    }
   ],
   "source": [
    "celiasText.concordance('Dodo')"
   ]
  },
  {
   "cell_type": "code",
   "execution_count": 39,
   "metadata": {},
   "outputs": [
    {
     "name": "stdout",
     "output_type": "stream",
     "text": [
      "Sir James; Mr. Casaubon; great soul; Mrs. Cadwallader; uncle gave;\n",
      "wear ornaments; quite young; would suit; must keep; one else; quite\n",
      "sure; n't think\n"
     ]
    }
   ],
   "source": [
    "celiasText.collocations()"
   ]
  },
  {
   "cell_type": "code",
   "execution_count": 45,
   "metadata": {},
   "outputs": [
    {
     "name": "stdout",
     "output_type": "stream",
     "text": [
      "[nltk_data] Downloading package averaged_perceptron_tagger to\n",
      "[nltk_data]     /home/jon/nltk_data...\n",
      "[nltk_data]   Unzipping taggers/averaged_perceptron_tagger.zip.\n"
     ]
    },
    {
     "data": {
      "text/plain": [
       "True"
      ]
     },
     "execution_count": 45,
     "metadata": {},
     "output_type": "execute_result"
    }
   ],
   "source": [
    "nltk.download('averaged_perceptron_tagger')"
   ]
  },
  {
   "cell_type": "code",
   "execution_count": 50,
   "metadata": {},
   "outputs": [],
   "source": [
    "celiasPOS = nltk.pos_tag(celiasText)"
   ]
  },
  {
   "cell_type": "code",
   "execution_count": 58,
   "metadata": {},
   "outputs": [
    {
     "data": {
      "text/plain": [
       "[((',', ','), 79),\n",
       " (('.', '.'), 79),\n",
       " (('you', 'PRP'), 41),\n",
       " (('to', 'TO'), 37),\n",
       " (('I', 'PRP'), 36),\n",
       " (('is', 'VBZ'), 23),\n",
       " (('he', 'PRP'), 19),\n",
       " (('and', 'CC'), 18),\n",
       " (('a', 'DT'), 18),\n",
       " (('it', 'PRP'), 17),\n",
       " (('not', 'RB'), 16),\n",
       " (('the', 'DT'), 16),\n",
       " (('that', 'IN'), 16),\n",
       " (('them', 'PRP'), 15),\n",
       " (('be', 'VB'), 15),\n",
       " (('are', 'VBP'), 14),\n",
       " (('would', 'MD'), 13),\n",
       " (('?', '.'), 12),\n",
       " (('Dodo', 'NNP'), 12),\n",
       " (('very', 'RB'), 11)]"
      ]
     },
     "execution_count": 58,
     "metadata": {},
     "output_type": "execute_result"
    }
   ],
   "source": [
    "Counter(celiasPOS).most_common(20)"
   ]
  },
  {
   "cell_type": "code",
   "execution_count": 56,
   "metadata": {},
   "outputs": [
    {
     "data": {
      "text/plain": [
       "[('Dorothea', 'NNP'),\n",
       " (',', ','),\n",
       " ('dear', 'NN'),\n",
       " (',', ','),\n",
       " ('if', 'IN'),\n",
       " ('you', 'PRP'),\n",
       " ('do', 'VBP'),\n",
       " (\"n't\", 'RB'),\n",
       " ('mind—if', 'VB'),\n",
       " ('you', 'PRP')]"
      ]
     },
     "execution_count": 56,
     "metadata": {},
     "output_type": "execute_result"
    }
   ],
   "source": [
    "celiasPOS[:10]"
   ]
  },
  {
   "cell_type": "code",
   "execution_count": 55,
   "metadata": {},
   "outputs": [
    {
     "data": {
      "text/plain": [
       "[('Dodo', 12),\n",
       " ('Sir', 10),\n",
       " ('James', 10),\n",
       " ('Dorothea', 9),\n",
       " ('Mr.', 7),\n",
       " ('Casaubon', 7),\n",
       " ('Locke', 2),\n",
       " ('Tantripp', 2),\n",
       " ('Mrs.', 2),\n",
       " ('Cadwallader', 2)]"
      ]
     },
     "execution_count": 55,
     "metadata": {},
     "output_type": "execute_result"
    }
   ],
   "source": [
    "# Proper nouns that Celia uses (in book 1)\n",
    "Counter([pair[0] for pair in celiasPOS if pair[1] == 'NNP']).most_common(10)"
   ]
  },
  {
   "cell_type": "code",
   "execution_count": 59,
   "metadata": {},
   "outputs": [
    {
     "data": {
      "text/plain": [
       "[('sure', 5),\n",
       " ('much', 5),\n",
       " ('little', 3),\n",
       " ('great', 3),\n",
       " ('sorry', 3),\n",
       " ('to-day', 2),\n",
       " ('first', 2),\n",
       " ('usual', 2),\n",
       " ('dreadful', 2),\n",
       " ('pleased', 2)]"
      ]
     },
     "execution_count": 59,
     "metadata": {},
     "output_type": "execute_result"
    }
   ],
   "source": [
    "# Celia's favorite adjectives\n",
    "Counter([pair[0] for pair in celiasPOS if pair[1] == 'JJ']).most_common(10)"
   ]
  },
  {
   "cell_type": "markdown",
   "metadata": {},
   "source": [
    "# Ratios of Free-Indirect Discourse"
   ]
  },
  {
   "cell_type": "code",
   "execution_count": 64,
   "metadata": {},
   "outputs": [
    {
     "data": {
      "text/plain": [
       "12"
      ]
     },
     "execution_count": 64,
     "metadata": {},
     "output_type": "execute_result"
    }
   ],
   "source": [
    "chaps = soup.findAll('div') # make a list of chapters\n",
    "len(chaps)"
   ]
  },
  {
   "cell_type": "code",
   "execution_count": 74,
   "metadata": {},
   "outputs": [
    {
     "data": {
      "text/plain": [
       "{0: {'saids': 0, 'fids': 0},\n",
       " 1: {'saids': 71, 'fids': 14},\n",
       " 2: {'saids': 35, 'fids': 24},\n",
       " 3: {'saids': 69, 'fids': 12},\n",
       " 4: {'saids': 40, 'fids': 15},\n",
       " 5: {'saids': 81, 'fids': 17},\n",
       " 6: {'saids': 23, 'fids': 6},\n",
       " 7: {'saids': 46, 'fids': 8},\n",
       " 8: {'saids': 89, 'fids': 17},\n",
       " 9: {'saids': 62, 'fids': 21},\n",
       " 10: {'saids': 95, 'fids': 9},\n",
       " 11: {'saids': 164, 'fids': 28}}"
      ]
     },
     "execution_count": 74,
     "metadata": {},
     "output_type": "execute_result"
    }
   ],
   "source": [
    "chapsAndCounts = {i: {} for i in range(12)}\n",
    "for i, chap in enumerate(chaps): \n",
    "    chapsAndCounts[i] = {\"saids\": len(chap.findAll('said')), \"fids\": len(chap.findAll('fid'))}\n",
    "chapsAndCounts"
   ]
  },
  {
   "cell_type": "code",
   "execution_count": 79,
   "metadata": {},
   "outputs": [
    {
     "data": {
      "text/plain": [
       "{0: {'saids': 0, 'fids': 0},\n",
       " 1: {'saids': 1673, 'fids': 1208},\n",
       " 2: {'saids': 1108, 'fids': 2624},\n",
       " 3: {'saids': 1998, 'fids': 692},\n",
       " 4: {'saids': 1019, 'fids': 1373},\n",
       " 5: {'saids': 2540, 'fids': 1378},\n",
       " 6: {'saids': 741, 'fids': 707},\n",
       " 7: {'saids': 1342, 'fids': 579},\n",
       " 8: {'saids': 1946, 'fids': 1267},\n",
       " 9: {'saids': 1471, 'fids': 2035},\n",
       " 10: {'saids': 1919, 'fids': 757},\n",
       " 11: {'saids': 3453, 'fids': 2188}}"
      ]
     },
     "execution_count": 79,
     "metadata": {},
     "output_type": "execute_result"
    }
   ],
   "source": [
    "chapsAndCounts = {i: {} for i in range(12)}\n",
    "for i, chap in enumerate(chaps): \n",
    "    chapsAndCounts[i] = {\"saids\": countWordsInChap('said', chap), \"fids\": countWordsInChap('fid', chap)}\n",
    "chapsAndCounts"
   ]
  },
  {
   "cell_type": "code",
   "execution_count": 83,
   "metadata": {},
   "outputs": [
    {
     "data": {
      "text/plain": [
       "<matplotlib.axes._subplots.AxesSubplot at 0x7f5e746377f0>"
      ]
     },
     "execution_count": 83,
     "metadata": {},
     "output_type": "execute_result"
    },
    {
     "data": {
      "image/png": "[encoded data removed]",
      "text/plain": [
       "<Figure size 864x576 with 1 Axes>"
      ]
     },
     "metadata": {
      "needs_background": "light"
     },
     "output_type": "display_data"
    }
   ],
   "source": [
    "df = pd.DataFrame(chapsAndCounts)\n",
    "df.T.plot(kind='bar')"
   ]
  },
  {
   "cell_type": "code",
   "execution_count": 88,
   "metadata": {},
   "outputs": [
    {
     "data": {
      "text/plain": [
       "<matplotlib.axes._subplots.AxesSubplot at 0x7f5e73ed8128>"
      ]
     },
     "execution_count": 88,
     "metadata": {},
     "output_type": "execute_result"
    },
    {
     "data": {
      "image/png": "[encoded data removed]",
      "text/plain": [
       "<Figure size 864x576 with 1 Axes>"
      ]
     },
     "metadata": {
      "needs_background": "light"
     },
     "output_type": "display_data"
    }
   ],
   "source": [
    "ratios = df.T['fids'] / df.T['saids']\n",
    "ratios.plot(kind='bar')"
   ]
  },
  {
   "cell_type": "code",
   "execution_count": 76,
   "metadata": {},
   "outputs": [],
   "source": [
    "def countWordsInChap(tag, chap):\n",
    "    utterances = chap.findAll(tag)\n",
    "    tally = 0 \n",
    "    for utt in utterances:\n",
    "        tokens = word_tokenize(utt.text)\n",
    "        tally += len(tokens)\n",
    "    return tally"
   ]
  },
  {
   "cell_type": "code",
   "execution_count": null,
   "metadata": {},
   "outputs": [],
   "source": []
  },
  {
   "cell_type": "code",
   "execution_count": 69,
   "metadata": {},
   "outputs": [
    {
     "name": "stdout",
     "output_type": "stream",
     "text": [
      "0 apples\n",
      "1 oranges\n"
     ]
    }
   ],
   "source": [
    "for i, item in enumerate(['apples', 'oranges']):\n",
    "    print(i, item)"
   ]
  },
  {
   "cell_type": "code",
   "execution_count": 65,
   "metadata": {},
   "outputs": [
    {
     "name": "stdout",
     "output_type": "stream",
     "text": [
      "0\n",
      "1\n",
      "2\n"
     ]
    }
   ],
   "source": [
    "for i in range(3): \n",
    "    print(i)"
   ]
  },
  {
   "cell_type": "code",
   "execution_count": 61,
   "metadata": {},
   "outputs": [
    {
     "data": {
      "text/plain": [
       "188"
      ]
     },
     "execution_count": 61,
     "metadata": {},
     "output_type": "execute_result"
    }
   ],
   "source": [
    "fid = soup.findAll('fid')\n",
    "len(fid)"
   ]
  }
 ],
 "metadata": {
  "kernelspec": {
   "display_name": "Python 3",
   "language": "python",
   "name": "python3"
  },
  "language_info": {
   "codemirror_mode": {
    "name": "ipython",
    "version": 3
   },
   "file_extension": ".py",
   "mimetype": "text/x-python",
   "name": "python",
   "nbconvert_exporter": "python",
   "pygments_lexer": "ipython3",
   "version": "3.7.2"
  }
 },
 "nbformat": 4,
 "nbformat_minor": 2
}
